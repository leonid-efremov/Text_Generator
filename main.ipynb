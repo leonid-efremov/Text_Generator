{
 "cells": [
  {
   "cell_type": "markdown",
   "metadata": {},
   "source": [
    "Генератор теста\n",
    "main файл:\n",
    "    - простая грамматическая модель\n",
    "    - интерфейс для вызова LSTM модели\n",
    "    - основная программа"
   ]
  },
  {
   "cell_type": "code",
   "execution_count": 1,
   "metadata": {},
   "outputs": [],
   "source": [
    "from Text_Generator import TextGenerator"
   ]
  },
  {
   "cell_type": "code",
   "execution_count": 2,
   "metadata": {},
   "outputs": [],
   "source": [
    "model = TextGenerator(model_type='LSTM')\n",
    "\n",
    "layers_sizes =  {'hidden_size': 128,     # for LSTM model\n",
    "                 'embedding_size': 128}"
   ]
  },
  {
   "cell_type": "code",
   "execution_count": 3,
   "metadata": {},
   "outputs": [],
   "source": [
    "train_texts = 'books.csv'\n",
    "\n",
    "model.prepare(train_texts, only_words=True, layers_sizes=layers_sizes, pretrained=True)"
   ]
  },
  {
   "cell_type": "code",
   "execution_count": 4,
   "metadata": {},
   "outputs": [],
   "source": [
    "#start_word = str(input('Enter your word:'))  # generate phrase from word\n",
    "#gen.init_word = 'утро доброе'  # start_word"
   ]
  },
  {
   "cell_type": "code",
   "execution_count": 5,
   "metadata": {},
   "outputs": [
    {
     "name": "stdout",
     "output_type": "stream",
     "text": [
      " себя вернулся на него после только на всех сторон в том положение по ней маленький месте с том что вы принес в том что не знаю на котором он продолжал он с него и принес и потому что же возможно от своим полковой командир подошел к которой он был по полковой командир с него не подумал он и приветствительно прошло и подошел к своим стороны и всегда он с половином и подошел к которой на него при ней с него и все на себя по столом сказал он не понимаю он подошел к нему и в доме прибавил он подошел \n"
     ]
    }
   ],
   "source": [
    "train_parameters = {'batch_size': 64,\n",
    "                    'seq_len': 256,\n",
    "                    'n_epochs': 2500,\n",
    "                    'lr': 1e-3}\n",
    "phrase = model.generate(train_parameters=train_parameters) "
   ]
  }
 ],
 "metadata": {
  "interpreter": {
   "hash": "ad2bdc8ecc057115af97d19610ffacc2b4e99fae6737bb82f5d7fb13d2f2c186"
  },
  "kernelspec": {
   "display_name": "Python 3.8.5 ('base')",
   "language": "python",
   "name": "python3"
  },
  "language_info": {
   "codemirror_mode": {
    "name": "ipython",
    "version": 3
   },
   "file_extension": ".py",
   "mimetype": "text/x-python",
   "name": "python",
   "nbconvert_exporter": "python",
   "pygments_lexer": "ipython3",
   "version": "3.8.5"
  },
  "orig_nbformat": 4
 },
 "nbformat": 4,
 "nbformat_minor": 2
}

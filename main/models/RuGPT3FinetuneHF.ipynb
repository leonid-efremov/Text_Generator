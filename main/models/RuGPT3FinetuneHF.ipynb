{
  "cells": [
    {
      "cell_type": "markdown",
      "metadata": {
        "id": "BO7MEGbb6mtB"
      },
      "source": [
        "# Finetune RuGPTs in huggingface\n",
        "How to finetune RuGPTs models with huggingface. Example for RuGPT3Small. Nfor other models it will take more GPU memory.\n",
        "\n",
        "This notebook is valid for all RuGPTs models except RuGPT3XL.\n",
        "\n",
        "Taken from:\n",
        "https://colab.research.google.com/github/ai-forever/ru-gpts/blob/master/examples/Generate_text_with_RuGPTs_HF.ipynb\n",
        "## Install env"
      ]
    },
    {
      "cell_type": "code",
      "source": [
        "!rm -rf /usr/local/cuda\n",
        "!ln -s /usr/local/cuda-10.1 /usr/local/cuda"
      ],
      "metadata": {
        "id": "22qKsT3KpKFv"
      },
      "execution_count": null,
      "outputs": []
    },
    {
      "cell_type": "code",
      "source": [
        "%%bash\n",
        "export LD_LIBRARY_PATH=/usr/lib/"
      ],
      "metadata": {
        "id": "VAHq-7ZdpW5N"
      },
      "execution_count": null,
      "outputs": []
    },
    {
      "cell_type": "code",
      "source": [
        "!apt-get install clang-9 llvm-9 llvm-9-dev llvm-9-tools"
      ],
      "metadata": {
        "id": "ORYJEnvKpXId",
        "colab": {
          "base_uri": "https://localhost:8080/"
        },
        "outputId": "84bf4328-5cad-406c-efcc-54acd3ffd06d"
      },
      "execution_count": null,
      "outputs": [
        {
          "output_type": "stream",
          "name": "stdout",
          "text": [
            "Reading package lists... Done\n",
            "Building dependency tree       \n",
            "Reading state information... Done\n",
            "The following package was automatically installed and is no longer required:\n",
            "  libnvidia-common-460\n",
            "Use 'apt autoremove' to remove it.\n",
            "The following additional packages will be installed:\n",
            "  binfmt-support libclang-common-9-dev libclang-cpp9 libclang1-9 libffi-dev\n",
            "  libllvm9 libomp-9-dev libomp5-9 libpfm4 llvm-9-runtime python-chardet\n",
            "  python-pkg-resources python-pygments python-yaml python3-pkg-resources\n",
            "  python3-pygments python3-yaml\n",
            "Suggested packages:\n",
            "  clang-9-doc libomp-9-doc llvm-9-doc python-setuptools ttf-bitstream-vera\n",
            "  python3-setuptools\n",
            "The following NEW packages will be installed:\n",
            "  binfmt-support clang-9 libclang-common-9-dev libclang-cpp9 libclang1-9\n",
            "  libffi-dev libllvm9 libomp-9-dev libomp5-9 libpfm4 llvm-9 llvm-9-dev\n",
            "  llvm-9-runtime llvm-9-tools python-chardet python-pkg-resources\n",
            "  python-pygments python-yaml python3-pkg-resources python3-pygments\n",
            "  python3-yaml\n",
            "0 upgraded, 21 newly installed, 0 to remove and 20 not upgraded.\n",
            "Need to get 85.9 MB of archives.\n",
            "After this operation, 511 MB of additional disk space will be used.\n",
            "Get:1 http://archive.ubuntu.com/ubuntu bionic/main amd64 python3-yaml amd64 3.12-1build2 [109 kB]\n",
            "Get:2 http://archive.ubuntu.com/ubuntu bionic/main amd64 binfmt-support amd64 2.1.8-2 [51.6 kB]\n",
            "Get:3 http://archive.ubuntu.com/ubuntu bionic-updates/main amd64 libllvm9 amd64 1:9-2~ubuntu18.04.2 [14.8 MB]\n",
            "Get:4 http://archive.ubuntu.com/ubuntu bionic-updates/universe amd64 libclang-cpp9 amd64 1:9-2~ubuntu18.04.2 [25.1 MB]\n",
            "Get:5 http://archive.ubuntu.com/ubuntu bionic-updates/universe amd64 libclang-common-9-dev amd64 1:9-2~ubuntu18.04.2 [3,861 kB]\n",
            "Get:6 http://archive.ubuntu.com/ubuntu bionic-updates/universe amd64 libclang1-9 amd64 1:9-2~ubuntu18.04.2 [6,701 kB]\n",
            "Get:7 http://archive.ubuntu.com/ubuntu bionic-updates/universe amd64 clang-9 amd64 1:9-2~ubuntu18.04.2 [1,109 kB]\n",
            "Get:8 http://archive.ubuntu.com/ubuntu bionic-updates/universe amd64 libomp5-9 amd64 1:9-2~ubuntu18.04.2 [299 kB]\n",
            "Get:9 http://archive.ubuntu.com/ubuntu bionic-updates/universe amd64 libomp-9-dev amd64 1:9-2~ubuntu18.04.2 [58.6 kB]\n",
            "Get:10 http://archive.ubuntu.com/ubuntu bionic-updates/universe amd64 llvm-9-runtime amd64 1:9-2~ubuntu18.04.2 [176 kB]\n",
            "Get:11 http://archive.ubuntu.com/ubuntu bionic/main amd64 libpfm4 amd64 4.9.0-2 [225 kB]\n",
            "Get:12 http://archive.ubuntu.com/ubuntu bionic-updates/universe amd64 llvm-9 amd64 1:9-2~ubuntu18.04.2 [4,874 kB]\n",
            "Get:13 http://archive.ubuntu.com/ubuntu bionic/main amd64 libffi-dev amd64 3.2.1-8 [156 kB]\n",
            "Get:14 http://archive.ubuntu.com/ubuntu bionic-updates/main amd64 python-pygments all 2.2.0+dfsg-1ubuntu0.2 [576 kB]\n",
            "Get:15 http://archive.ubuntu.com/ubuntu bionic/main amd64 python-yaml amd64 3.12-1build2 [115 kB]\n",
            "Get:16 http://archive.ubuntu.com/ubuntu bionic-updates/main amd64 python3-pygments all 2.2.0+dfsg-1ubuntu0.2 [574 kB]\n",
            "Get:17 http://archive.ubuntu.com/ubuntu bionic-updates/universe amd64 llvm-9-tools amd64 1:9-2~ubuntu18.04.2 [250 kB]\n",
            "Get:18 http://archive.ubuntu.com/ubuntu bionic-updates/universe amd64 llvm-9-dev amd64 1:9-2~ubuntu18.04.2 [26.6 MB]\n",
            "Get:19 http://archive.ubuntu.com/ubuntu bionic/main amd64 python-pkg-resources all 39.0.1-2 [128 kB]\n",
            "Get:20 http://archive.ubuntu.com/ubuntu bionic/main amd64 python-chardet all 3.0.4-1 [80.3 kB]\n",
            "Get:21 http://archive.ubuntu.com/ubuntu bionic/main amd64 python3-pkg-resources all 39.0.1-2 [98.8 kB]\n",
            "Fetched 85.9 MB in 6s (15.3 MB/s)\n",
            "Selecting previously unselected package python3-yaml.\n",
            "(Reading database ... 155676 files and directories currently installed.)\n",
            "Preparing to unpack .../00-python3-yaml_3.12-1build2_amd64.deb ...\n",
            "Unpacking python3-yaml (3.12-1build2) ...\n",
            "Selecting previously unselected package binfmt-support.\n",
            "Preparing to unpack .../01-binfmt-support_2.1.8-2_amd64.deb ...\n",
            "Unpacking binfmt-support (2.1.8-2) ...\n",
            "Selecting previously unselected package libllvm9:amd64.\n",
            "Preparing to unpack .../02-libllvm9_1%3a9-2~ubuntu18.04.2_amd64.deb ...\n",
            "Unpacking libllvm9:amd64 (1:9-2~ubuntu18.04.2) ...\n",
            "Selecting previously unselected package libclang-cpp9.\n",
            "Preparing to unpack .../03-libclang-cpp9_1%3a9-2~ubuntu18.04.2_amd64.deb ...\n",
            "Unpacking libclang-cpp9 (1:9-2~ubuntu18.04.2) ...\n",
            "Selecting previously unselected package libclang-common-9-dev.\n",
            "Preparing to unpack .../04-libclang-common-9-dev_1%3a9-2~ubuntu18.04.2_amd64.deb ...\n",
            "Unpacking libclang-common-9-dev (1:9-2~ubuntu18.04.2) ...\n",
            "Selecting previously unselected package libclang1-9.\n",
            "Preparing to unpack .../05-libclang1-9_1%3a9-2~ubuntu18.04.2_amd64.deb ...\n",
            "Unpacking libclang1-9 (1:9-2~ubuntu18.04.2) ...\n",
            "Selecting previously unselected package clang-9.\n",
            "Preparing to unpack .../06-clang-9_1%3a9-2~ubuntu18.04.2_amd64.deb ...\n",
            "Unpacking clang-9 (1:9-2~ubuntu18.04.2) ...\n",
            "Selecting previously unselected package libomp5-9:amd64.\n",
            "Preparing to unpack .../07-libomp5-9_1%3a9-2~ubuntu18.04.2_amd64.deb ...\n",
            "Unpacking libomp5-9:amd64 (1:9-2~ubuntu18.04.2) ...\n",
            "Selecting previously unselected package libomp-9-dev.\n",
            "Preparing to unpack .../08-libomp-9-dev_1%3a9-2~ubuntu18.04.2_amd64.deb ...\n",
            "Unpacking libomp-9-dev (1:9-2~ubuntu18.04.2) ...\n",
            "Selecting previously unselected package llvm-9-runtime.\n",
            "Preparing to unpack .../09-llvm-9-runtime_1%3a9-2~ubuntu18.04.2_amd64.deb ...\n",
            "Unpacking llvm-9-runtime (1:9-2~ubuntu18.04.2) ...\n",
            "Selecting previously unselected package libpfm4:amd64.\n",
            "Preparing to unpack .../10-libpfm4_4.9.0-2_amd64.deb ...\n",
            "Unpacking libpfm4:amd64 (4.9.0-2) ...\n",
            "Selecting previously unselected package llvm-9.\n",
            "Preparing to unpack .../11-llvm-9_1%3a9-2~ubuntu18.04.2_amd64.deb ...\n",
            "Unpacking llvm-9 (1:9-2~ubuntu18.04.2) ...\n",
            "Selecting previously unselected package libffi-dev:amd64.\n",
            "Preparing to unpack .../12-libffi-dev_3.2.1-8_amd64.deb ...\n",
            "Unpacking libffi-dev:amd64 (3.2.1-8) ...\n",
            "Selecting previously unselected package python-pygments.\n",
            "Preparing to unpack .../13-python-pygments_2.2.0+dfsg-1ubuntu0.2_all.deb ...\n",
            "Unpacking python-pygments (2.2.0+dfsg-1ubuntu0.2) ...\n",
            "Selecting previously unselected package python-yaml.\n",
            "Preparing to unpack .../14-python-yaml_3.12-1build2_amd64.deb ...\n",
            "Unpacking python-yaml (3.12-1build2) ...\n",
            "Selecting previously unselected package python3-pygments.\n",
            "Preparing to unpack .../15-python3-pygments_2.2.0+dfsg-1ubuntu0.2_all.deb ...\n",
            "Unpacking python3-pygments (2.2.0+dfsg-1ubuntu0.2) ...\n",
            "Selecting previously unselected package llvm-9-tools.\n",
            "Preparing to unpack .../16-llvm-9-tools_1%3a9-2~ubuntu18.04.2_amd64.deb ...\n",
            "Unpacking llvm-9-tools (1:9-2~ubuntu18.04.2) ...\n",
            "Selecting previously unselected package llvm-9-dev.\n",
            "Preparing to unpack .../17-llvm-9-dev_1%3a9-2~ubuntu18.04.2_amd64.deb ...\n",
            "Unpacking llvm-9-dev (1:9-2~ubuntu18.04.2) ...\n",
            "Selecting previously unselected package python-pkg-resources.\n",
            "Preparing to unpack .../18-python-pkg-resources_39.0.1-2_all.deb ...\n",
            "Unpacking python-pkg-resources (39.0.1-2) ...\n",
            "Selecting previously unselected package python-chardet.\n",
            "Preparing to unpack .../19-python-chardet_3.0.4-1_all.deb ...\n",
            "Unpacking python-chardet (3.0.4-1) ...\n",
            "Selecting previously unselected package python3-pkg-resources.\n",
            "Preparing to unpack .../20-python3-pkg-resources_39.0.1-2_all.deb ...\n",
            "Unpacking python3-pkg-resources (39.0.1-2) ...\n",
            "Setting up python3-yaml (3.12-1build2) ...\n",
            "Setting up binfmt-support (2.1.8-2) ...\n",
            "Created symlink /etc/systemd/system/multi-user.target.wants/binfmt-support.service → /lib/systemd/system/binfmt-support.service.\n",
            "invoke-rc.d: could not determine current runlevel\n",
            "invoke-rc.d: policy-rc.d denied execution of start.\n",
            "Setting up python-yaml (3.12-1build2) ...\n",
            "Setting up libffi-dev:amd64 (3.2.1-8) ...\n",
            "Setting up python3-pkg-resources (39.0.1-2) ...\n",
            "Setting up python-pkg-resources (39.0.1-2) ...\n",
            "Setting up libomp5-9:amd64 (1:9-2~ubuntu18.04.2) ...\n",
            "Setting up libpfm4:amd64 (4.9.0-2) ...\n",
            "Setting up python-pygments (2.2.0+dfsg-1ubuntu0.2) ...\n",
            "Setting up libllvm9:amd64 (1:9-2~ubuntu18.04.2) ...\n",
            "Setting up libomp-9-dev (1:9-2~ubuntu18.04.2) ...\n",
            "Setting up python3-pygments (2.2.0+dfsg-1ubuntu0.2) ...\n",
            "Setting up libclang-common-9-dev (1:9-2~ubuntu18.04.2) ...\n",
            "Setting up python-chardet (3.0.4-1) ...\n",
            "Setting up libclang1-9 (1:9-2~ubuntu18.04.2) ...\n",
            "Setting up libclang-cpp9 (1:9-2~ubuntu18.04.2) ...\n",
            "Setting up llvm-9-runtime (1:9-2~ubuntu18.04.2) ...\n",
            "Setting up llvm-9-tools (1:9-2~ubuntu18.04.2) ...\n",
            "Setting up clang-9 (1:9-2~ubuntu18.04.2) ...\n",
            "Setting up llvm-9 (1:9-2~ubuntu18.04.2) ...\n",
            "Setting up llvm-9-dev (1:9-2~ubuntu18.04.2) ...\n",
            "Processing triggers for systemd (237-3ubuntu10.53) ...\n",
            "Processing triggers for man-db (2.8.3-2ubuntu0.1) ...\n",
            "Processing triggers for libc-bin (2.27-3ubuntu1.5) ...\n"
          ]
        }
      ]
    },
    {
      "cell_type": "code",
      "metadata": {
        "id": "Vn0fHQmpTPcF",
        "outputId": "a84aa50c-b9b8-4e33-94b5-7b42c20dff8f",
        "colab": {
          "base_uri": "https://localhost:8080/"
        }
      },
      "source": [
        "import subprocess\n",
        "\n",
        "CUDA_version = [s for s in subprocess.check_output([\"nvcc\", \"--version\"]).decode(\"UTF-8\").split(\", \") if s.startswith(\"release\")][0].split(\" \")[-1]\n",
        "print(\"CUDA version:\", CUDA_version)\n",
        "\n",
        "if CUDA_version == \"10.0\":\n",
        "    torch_version_suffix = \"+cu100\"\n",
        "elif CUDA_version == \"10.1\":\n",
        "    torch_version_suffix = \"+cu101\"\n",
        "elif CUDA_version == \"10.2\":\n",
        "    torch_version_suffix = \"\"\n",
        "else:\n",
        "    torch_version_suffix = \"+cu110\""
      ],
      "execution_count": null,
      "outputs": [
        {
          "output_type": "stream",
          "name": "stdout",
          "text": [
            "CUDA version: 10.1\n"
          ]
        }
      ]
    },
    {
      "cell_type": "markdown",
      "metadata": {
        "id": "Maf99CebV3oT"
      },
      "source": [
        "If code below doesn't work, check your cuda version and installation here https://pytorch.org/get-started/previous-versions/"
      ]
    },
    {
      "cell_type": "code",
      "metadata": {
        "id": "8uNRRWUaVQN0",
        "colab": {
          "base_uri": "https://localhost:8080/"
        },
        "outputId": "929ca22a-225c-4e10-8afe-6232e88cec18"
      },
      "source": [
        "!pip install torch==1.7.1{torch_version_suffix} torchvision==0.8.2{torch_version_suffix} torchaudio==0.7.2 -f https://download.pytorch.org/whl/torch_stable.html"
      ],
      "execution_count": null,
      "outputs": [
        {
          "output_type": "stream",
          "name": "stdout",
          "text": [
            "Looking in indexes: https://pypi.org/simple, https://us-python.pkg.dev/colab-wheels/public/simple/\n",
            "Looking in links: https://download.pytorch.org/whl/torch_stable.html\n",
            "Collecting torch==1.7.1+cu101\n",
            "  Downloading https://download.pytorch.org/whl/cu101/torch-1.7.1%2Bcu101-cp37-cp37m-linux_x86_64.whl (735.4 MB)\n",
            "\u001b[K     |████████████████████████████████| 735.4 MB 15 kB/s \n",
            "\u001b[?25hCollecting torchvision==0.8.2+cu101\n",
            "  Downloading https://download.pytorch.org/whl/cu101/torchvision-0.8.2%2Bcu101-cp37-cp37m-linux_x86_64.whl (12.8 MB)\n",
            "\u001b[K     |████████████████████████████████| 12.8 MB 68.4 MB/s \n",
            "\u001b[?25hCollecting torchaudio==0.7.2\n",
            "  Downloading torchaudio-0.7.2-cp37-cp37m-manylinux1_x86_64.whl (7.6 MB)\n",
            "\u001b[K     |████████████████████████████████| 7.6 MB 6.3 MB/s \n",
            "\u001b[?25hRequirement already satisfied: typing-extensions in /usr/local/lib/python3.7/dist-packages (from torch==1.7.1+cu101) (4.1.1)\n",
            "Requirement already satisfied: numpy in /usr/local/lib/python3.7/dist-packages (from torch==1.7.1+cu101) (1.21.6)\n",
            "Requirement already satisfied: pillow>=4.1.1 in /usr/local/lib/python3.7/dist-packages (from torchvision==0.8.2+cu101) (7.1.2)\n",
            "Installing collected packages: torch, torchvision, torchaudio\n",
            "  Attempting uninstall: torch\n",
            "    Found existing installation: torch 1.12.1+cu113\n",
            "    Uninstalling torch-1.12.1+cu113:\n",
            "      Successfully uninstalled torch-1.12.1+cu113\n",
            "  Attempting uninstall: torchvision\n",
            "    Found existing installation: torchvision 0.13.1+cu113\n",
            "    Uninstalling torchvision-0.13.1+cu113:\n",
            "      Successfully uninstalled torchvision-0.13.1+cu113\n",
            "  Attempting uninstall: torchaudio\n",
            "    Found existing installation: torchaudio 0.12.1+cu113\n",
            "    Uninstalling torchaudio-0.12.1+cu113:\n",
            "      Successfully uninstalled torchaudio-0.12.1+cu113\n",
            "\u001b[31mERROR: pip's dependency resolver does not currently take into account all the packages that are installed. This behaviour is the source of the following dependency conflicts.\n",
            "torchtext 0.13.1 requires torch==1.12.1, but you have torch 1.7.1+cu101 which is incompatible.\u001b[0m\n",
            "Successfully installed torch-1.7.1+cu101 torchaudio-0.7.2 torchvision-0.8.2+cu101\n"
          ]
        }
      ]
    },
    {
      "cell_type": "code",
      "source": [
        "!pip install transformers==3.5.1"
      ],
      "metadata": {
        "id": "24zCgrZbAbjD",
        "colab": {
          "base_uri": "https://localhost:8080/"
        },
        "outputId": "f703d39b-278d-4295-870e-5008b3002114"
      },
      "execution_count": null,
      "outputs": [
        {
          "output_type": "stream",
          "name": "stdout",
          "text": [
            "Looking in indexes: https://pypi.org/simple, https://us-python.pkg.dev/colab-wheels/public/simple/\n",
            "Collecting transformers==3.5.1\n",
            "  Downloading transformers-3.5.1-py3-none-any.whl (1.3 MB)\n",
            "\u001b[K     |████████████████████████████████| 1.3 MB 8.5 MB/s \n",
            "\u001b[?25hRequirement already satisfied: filelock in /usr/local/lib/python3.7/dist-packages (from transformers==3.5.1) (3.8.0)\n",
            "Requirement already satisfied: numpy in /usr/local/lib/python3.7/dist-packages (from transformers==3.5.1) (1.21.6)\n",
            "Requirement already satisfied: tqdm>=4.27 in /usr/local/lib/python3.7/dist-packages (from transformers==3.5.1) (4.64.0)\n",
            "Requirement already satisfied: requests in /usr/local/lib/python3.7/dist-packages (from transformers==3.5.1) (2.23.0)\n",
            "Collecting sacremoses\n",
            "  Downloading sacremoses-0.0.53.tar.gz (880 kB)\n",
            "\u001b[K     |████████████████████████████████| 880 kB 52.9 MB/s \n",
            "\u001b[?25hRequirement already satisfied: protobuf in /usr/local/lib/python3.7/dist-packages (from transformers==3.5.1) (3.17.3)\n",
            "Requirement already satisfied: regex!=2019.12.17 in /usr/local/lib/python3.7/dist-packages (from transformers==3.5.1) (2022.6.2)\n",
            "Collecting sentencepiece==0.1.91\n",
            "  Downloading sentencepiece-0.1.91-cp37-cp37m-manylinux1_x86_64.whl (1.1 MB)\n",
            "\u001b[K     |████████████████████████████████| 1.1 MB 63.3 MB/s \n",
            "\u001b[?25hCollecting tokenizers==0.9.3\n",
            "  Downloading tokenizers-0.9.3-cp37-cp37m-manylinux1_x86_64.whl (2.9 MB)\n",
            "\u001b[K     |████████████████████████████████| 2.9 MB 50.8 MB/s \n",
            "\u001b[?25hRequirement already satisfied: packaging in /usr/local/lib/python3.7/dist-packages (from transformers==3.5.1) (21.3)\n",
            "Requirement already satisfied: pyparsing!=3.0.5,>=2.0.2 in /usr/local/lib/python3.7/dist-packages (from packaging->transformers==3.5.1) (3.0.9)\n",
            "Requirement already satisfied: six>=1.9 in /usr/local/lib/python3.7/dist-packages (from protobuf->transformers==3.5.1) (1.15.0)\n",
            "Requirement already satisfied: idna<3,>=2.5 in /usr/local/lib/python3.7/dist-packages (from requests->transformers==3.5.1) (2.10)\n",
            "Requirement already satisfied: certifi>=2017.4.17 in /usr/local/lib/python3.7/dist-packages (from requests->transformers==3.5.1) (2022.6.15)\n",
            "Requirement already satisfied: urllib3!=1.25.0,!=1.25.1,<1.26,>=1.21.1 in /usr/local/lib/python3.7/dist-packages (from requests->transformers==3.5.1) (1.24.3)\n",
            "Requirement already satisfied: chardet<4,>=3.0.2 in /usr/local/lib/python3.7/dist-packages (from requests->transformers==3.5.1) (3.0.4)\n",
            "Requirement already satisfied: click in /usr/local/lib/python3.7/dist-packages (from sacremoses->transformers==3.5.1) (7.1.2)\n",
            "Requirement already satisfied: joblib in /usr/local/lib/python3.7/dist-packages (from sacremoses->transformers==3.5.1) (1.1.0)\n",
            "Building wheels for collected packages: sacremoses\n",
            "  Building wheel for sacremoses (setup.py) ... \u001b[?25l\u001b[?25hdone\n",
            "  Created wheel for sacremoses: filename=sacremoses-0.0.53-py3-none-any.whl size=895260 sha256=0eaab745f5a10ce6fc2f40ba7b4602ec0e3e70cd44dc048946d9e671dc9329ab\n",
            "  Stored in directory: /root/.cache/pip/wheels/87/39/dd/a83eeef36d0bf98e7a4d1933a4ad2d660295a40613079bafc9\n",
            "Successfully built sacremoses\n",
            "Installing collected packages: tokenizers, sentencepiece, sacremoses, transformers\n",
            "Successfully installed sacremoses-0.0.53 sentencepiece-0.1.91 tokenizers-0.9.3 transformers-3.5.1\n"
          ]
        }
      ]
    },
    {
      "cell_type": "code",
      "execution_count": null,
      "metadata": {
        "id": "RSV1JFFf6nrt",
        "colab": {
          "base_uri": "https://localhost:8080/"
        },
        "outputId": "0cf9919e-c854-4495-e964-678a3b01e50c"
      },
      "outputs": [
        {
          "output_type": "stream",
          "name": "stdout",
          "text": [
            "Cloning into 'ru-gpts'...\n",
            "remote: Enumerating objects: 686, done.\u001b[K\n",
            "remote: Counting objects: 100% (244/244), done.\u001b[K\n",
            "remote: Compressing objects: 100% (79/79), done.\u001b[K\n",
            "remote: Total 686 (delta 189), reused 165 (delta 165), pack-reused 442\u001b[K\n",
            "Receiving objects: 100% (686/686), 377.90 KiB | 11.81 MiB/s, done.\n",
            "Resolving deltas: 100% (427/427), done.\n"
          ]
        }
      ],
      "source": [
        "!git clone  https://github.com/sberbank-ai/ru-gpts"
      ]
    },
    {
      "cell_type": "code",
      "execution_count": null,
      "metadata": {
        "id": "WJZtWu8u6nwL"
      },
      "outputs": [],
      "source": [
        "!mkdir models/"
      ]
    },
    {
      "cell_type": "markdown",
      "metadata": {
        "id": "WqwZiumW8WbZ"
      },
      "source": [
        "## Download files"
      ]
    },
    {
      "cell_type": "code",
      "execution_count": 25,
      "metadata": {
        "id": "j51bKtQW6nyY",
        "colab": {
          "base_uri": "https://localhost:8080/"
        },
        "outputId": "e7290e0a-4428-438f-d28d-5d75b9fecc56"
      },
      "outputs": [
        {
          "output_type": "stream",
          "name": "stdout",
          "text": [
            "--2022-08-18 08:51:30--  https://docs.google.com/uc?export=download&id=1hgPQj1AQE2j56pxikDF6Vn6EAYLZXxPM\n",
            "Resolving docs.google.com (docs.google.com)... 74.125.195.101, 74.125.195.138, 74.125.195.102, ...\n",
            "Connecting to docs.google.com (docs.google.com)|74.125.195.101|:443... connected.\n",
            "HTTP request sent, awaiting response... 303 See Other\n",
            "Location: https://doc-0g-0o-docs.googleusercontent.com/docs/securesc/ha0ro937gcuc7l7deffksulhg5h7mbp1/ena1a1p9c02h1bp7dcmbs6f99ct3h7mq/1660812675000/03447575829673652196/*/1hgPQj1AQE2j56pxikDF6Vn6EAYLZXxPM?e=download&uuid=5e30d1a6-07ad-4a3b-b4ce-221d96f53fb0 [following]\n",
            "Warning: wildcards not supported in HTTP.\n",
            "--2022-08-18 08:51:30--  https://doc-0g-0o-docs.googleusercontent.com/docs/securesc/ha0ro937gcuc7l7deffksulhg5h7mbp1/ena1a1p9c02h1bp7dcmbs6f99ct3h7mq/1660812675000/03447575829673652196/*/1hgPQj1AQE2j56pxikDF6Vn6EAYLZXxPM?e=download&uuid=5e30d1a6-07ad-4a3b-b4ce-221d96f53fb0\n",
            "Resolving doc-0g-0o-docs.googleusercontent.com (doc-0g-0o-docs.googleusercontent.com)... 108.177.98.132, 2607:f8b0:400e:c06::84\n",
            "Connecting to doc-0g-0o-docs.googleusercontent.com (doc-0g-0o-docs.googleusercontent.com)|108.177.98.132|:443... connected.\n",
            "HTTP request sent, awaiting response... 200 OK\n",
            "Length: 1218853 (1.2M) [text/plain]\n",
            "Saving to: ‘train.txt’\n",
            "\n",
            "train.txt           100%[===================>]   1.16M  --.-KB/s    in 0.02s   \n",
            "\n",
            "2022-08-18 08:51:30 (71.6 MB/s) - ‘train.txt’ saved [1218853/1218853]\n",
            "\n",
            "--2022-08-18 08:51:31--  https://docs.google.com/uc?export=download&id=1kNwEH1O4Y8bJcDMNEfWbafgivMejUkj6\n",
            "Resolving docs.google.com (docs.google.com)... 74.125.195.101, 74.125.195.138, 74.125.195.102, ...\n",
            "Connecting to docs.google.com (docs.google.com)|74.125.195.101|:443... connected.\n",
            "HTTP request sent, awaiting response... 303 See Other\n",
            "Location: https://doc-0c-0o-docs.googleusercontent.com/docs/securesc/ha0ro937gcuc7l7deffksulhg5h7mbp1/6v631rovlj20vfkijc3n0ci08rd6fe1c/1660812675000/03447575829673652196/*/1kNwEH1O4Y8bJcDMNEfWbafgivMejUkj6?e=download&uuid=8ea29889-2f1d-4360-b821-8e1aabd107a6 [following]\n",
            "Warning: wildcards not supported in HTTP.\n",
            "--2022-08-18 08:51:31--  https://doc-0c-0o-docs.googleusercontent.com/docs/securesc/ha0ro937gcuc7l7deffksulhg5h7mbp1/6v631rovlj20vfkijc3n0ci08rd6fe1c/1660812675000/03447575829673652196/*/1kNwEH1O4Y8bJcDMNEfWbafgivMejUkj6?e=download&uuid=8ea29889-2f1d-4360-b821-8e1aabd107a6\n",
            "Resolving doc-0c-0o-docs.googleusercontent.com (doc-0c-0o-docs.googleusercontent.com)... 108.177.98.132, 2607:f8b0:400e:c06::84\n",
            "Connecting to doc-0c-0o-docs.googleusercontent.com (doc-0c-0o-docs.googleusercontent.com)|108.177.98.132|:443... connected.\n",
            "HTTP request sent, awaiting response... 200 OK\n",
            "Length: 199062 (194K) [text/plain]\n",
            "Saving to: ‘valid.txt’\n",
            "\n",
            "valid.txt           100%[===================>] 194.40K  --.-KB/s    in 0.002s  \n",
            "\n",
            "2022-08-18 08:51:31 (89.8 MB/s) - ‘valid.txt’ saved [199062/199062]\n",
            "\n"
          ]
        }
      ],
      "source": [
        "!wget --no-check-certificate 'https://docs.google.com/uc?export=download&id=1hgPQj1AQE2j56pxikDF6Vn6EAYLZXxPM' -O train.txt\n",
        "!wget --no-check-certificate 'https://docs.google.com/uc?export=download&id=1kNwEH1O4Y8bJcDMNEfWbafgivMejUkj6' -O valid.txt\n",
        "\n",
        "# Instruction: https://medium.com/@acpanjan/download-google-drive-files-using-wget-3c2c025a8b99"
      ]
    },
    {
      "cell_type": "code",
      "source": [
        "open('train.txt', 'r').read(1000)"
      ],
      "metadata": {
        "colab": {
          "base_uri": "https://localhost:8080/",
          "height": 87
        },
        "id": "VOSYfVICZr43",
        "outputId": "3933b13a-df98-489e-83c8-f67d59a4c7d2"
      },
      "execution_count": 29,
      "outputs": [
        {
          "output_type": "execute_result",
          "data": {
            "text/plain": [
              "'Лев Николаевич Толстой Война и мир. Том Лев Николаевич Толстой ВОЙНА И МИР Том ЧАСТЬ ПЕРВАЯ - Е , . , поместья, . , , , , , ( , ) - , , мой верный раб, . Ну, что, князь, Генуа и Лукка стали не больше, как поместьями фамилии Бонапарте. Нет, я вас предупреждаю, если вы мне не скажете, что у нас война, если вы еще позволите себе защищать все гадости, все ужасы этого Антихриста (право, я верю, что он Антихрист) - я вас больше не знаю, вы уж не друг мой, вы уж не мой верный раб, как вы говорите. Ну, здравствуйте, здравствуйте. , Я вижу, что я вас пугаю, садитесь и рассказывайте. Так говорила в июле года известная Анна Павловна Шерер, фрейлина и приближенная императрицы Марии Феодоровны, встречая важного и чиновного князя Василия, первого приехавшего на ее вечер. Анна Павловна кашляла несколько дней, у нее был грипп , как она говорила (грипп был тогда новое слово, употреблявшееся только редкими). В записочках, разосланных утром с красным лакеем, было написано без различия во всех: , . (или )'"
            ],
            "application/vnd.google.colaboratory.intrinsic+json": {
              "type": "string"
            }
          },
          "metadata": {},
          "execution_count": 29
        }
      ]
    },
    {
      "cell_type": "markdown",
      "metadata": {
        "id": "zoyX62qN_38l"
      },
      "source": [
        "## Train \n",
        "The following code download our model and tokenizer from huggingface and finetune model for generating essays.\n",
        "\n",
        "This took aroung ten minutes and obtain perplexity = 13-16"
      ]
    },
    {
      "cell_type": "code",
      "execution_count": null,
      "metadata": {
        "id": "aZ-4Kav28cH0",
        "colab": {
          "base_uri": "https://localhost:8080/"
        },
        "outputId": "3c7c2582-d9d7-483c-bfa4-22db1fd99a86"
      },
      "outputs": [
        {
          "output_type": "stream",
          "name": "stdout",
          "text": [
            "08/18/2022 08:37:38 - WARNING - __main__ -   Process rank: -1, device: cuda, n_gpu: 1, distributed training: False, 16-bits training: False\n",
            "Downloading: 100% 608/608 [00:00<00:00, 674kB/s]\n",
            "Downloading: 100% 1.71M/1.71M [00:00<00:00, 5.34MB/s]\n",
            "Downloading: 100% 1.27M/1.27M [00:00<00:00, 2.91MB/s]\n",
            "/usr/local/lib/python3.7/dist-packages/transformers/tokenization_utils_base.py:1423: FutureWarning: The `max_len` attribute has been deprecated and will be removed in a future version, use `model_max_length` instead.\n",
            "  FutureWarning,\n",
            "/usr/local/lib/python3.7/dist-packages/transformers/modeling_auto.py:837: FutureWarning: The class `AutoModelWithLMHead` is deprecated and will be removed in a future version. Please use `AutoModelForCausalLM` for causal language models, `AutoModelForMaskedLM` for masked language models and `AutoModelForSeq2SeqLM` for encoder-decoder models.\n",
            "  FutureWarning,\n",
            "Downloading: 100% 551M/551M [00:07<00:00, 72.1MB/s]\n",
            "08/18/2022 08:37:59 - INFO - __main__ -   Training/evaluation parameters Namespace(adam_epsilon=1e-08, block_size=2048, cache_dir=None, config_name=None, device=device(type='cuda'), do_eval=True, do_train=True, eval_all_checkpoints=False, eval_data_file='valid.txt', evaluate_during_training=False, fp16=False, fp16_opt_level='O1', gradient_accumulation_steps=1, learning_rate=5e-05, line_by_line=False, local_rank=-1, logging_steps=500, max_grad_norm=1.0, max_steps=-1, mlm=False, mlm_probability=0.15, model_name_or_path='sberbank-ai/rugpt3small_based_on_gpt2', model_type='gpt2', n_gpu=1, no_cuda=False, num_train_epochs=5.0, output_dir='models/essays', overwrite_cache=False, overwrite_output_dir=True, per_gpu_eval_batch_size=4, per_gpu_train_batch_size=1, save_steps=500, save_total_limit=None, seed=42, server_ip='', server_port='', should_continue=False, tokenizer_name=None, train_data_file='train.txt', warmup_steps=0, weight_decay=0.01)\n",
            "08/18/2022 08:37:59 - INFO - __main__ -   Creating features from dataset file at \n",
            "08/18/2022 08:38:01 - INFO - __main__ -   Saving features into cached file gpt2_cached_lm_2048_train.txt\n",
            "08/18/2022 08:38:02 - INFO - __main__ -   ***** Running training *****\n",
            "08/18/2022 08:38:02 - INFO - __main__ -     Num examples = 78\n",
            "08/18/2022 08:38:02 - INFO - __main__ -     Num Epochs = 5\n",
            "08/18/2022 08:38:02 - INFO - __main__ -     Instantaneous batch size per GPU = 1\n",
            "08/18/2022 08:38:02 - INFO - __main__ -     Total train batch size (w. parallel, distributed & accumulation) = 1\n",
            "08/18/2022 08:38:02 - INFO - __main__ -     Gradient Accumulation steps = 1\n",
            "08/18/2022 08:38:02 - INFO - __main__ -     Total optimization steps = 390\n",
            "Epoch:   0% 0/5 [00:00<?, ?it/s]\n",
            "Iteration:   0% 0/78 [00:00<?, ?it/s]\u001b[A\n",
            "Iteration:   1% 1/78 [00:00<01:13,  1.05it/s]\u001b[A\n",
            "Iteration:   3% 2/78 [00:01<01:10,  1.08it/s]\u001b[A\n",
            "Iteration:   4% 3/78 [00:02<01:08,  1.09it/s]\u001b[A\n",
            "Iteration:   5% 4/78 [00:03<01:07,  1.09it/s]\u001b[A\n",
            "Iteration:   6% 5/78 [00:04<01:06,  1.09it/s]\u001b[A\n",
            "Iteration:   8% 6/78 [00:05<01:05,  1.09it/s]\u001b[A\n",
            "Iteration:   9% 7/78 [00:06<01:05,  1.09it/s]\u001b[A\n",
            "Iteration:  10% 8/78 [00:07<01:04,  1.09it/s]\u001b[A\n",
            "Iteration:  12% 9/78 [00:08<01:03,  1.09it/s]\u001b[A\n",
            "Iteration:  13% 10/78 [00:09<01:02,  1.08it/s]\u001b[A\n",
            "Iteration:  14% 11/78 [00:10<01:01,  1.08it/s]\u001b[A\n",
            "Iteration:  15% 12/78 [00:11<01:01,  1.08it/s]\u001b[A\n",
            "Iteration:  17% 13/78 [00:11<01:00,  1.08it/s]\u001b[A\n",
            "Iteration:  18% 14/78 [00:12<00:59,  1.07it/s]\u001b[A\n",
            "Iteration:  19% 15/78 [00:13<00:58,  1.07it/s]\u001b[A\n",
            "Iteration:  21% 16/78 [00:14<00:57,  1.07it/s]\u001b[A\n",
            "Iteration:  22% 17/78 [00:15<00:58,  1.04it/s]\u001b[A\n",
            "Iteration:  23% 18/78 [00:16<00:57,  1.04it/s]\u001b[A\n",
            "Iteration:  24% 19/78 [00:17<00:56,  1.05it/s]\u001b[A\n",
            "Iteration:  26% 20/78 [00:18<00:54,  1.06it/s]\u001b[A\n",
            "Iteration:  27% 21/78 [00:19<00:54,  1.05it/s]\u001b[A\n",
            "Iteration:  28% 22/78 [00:20<00:53,  1.05it/s]\u001b[A\n",
            "Iteration:  29% 23/78 [00:21<00:52,  1.05it/s]\u001b[A\n",
            "Iteration:  31% 24/78 [00:22<00:51,  1.05it/s]\u001b[A\n",
            "Iteration:  32% 25/78 [00:23<00:50,  1.05it/s]\u001b[A\n",
            "Iteration:  33% 26/78 [00:24<00:49,  1.05it/s]\u001b[A\n",
            "Iteration:  35% 27/78 [00:25<00:48,  1.04it/s]\u001b[A\n",
            "Iteration:  36% 28/78 [00:26<00:48,  1.04it/s]\u001b[A\n",
            "Iteration:  37% 29/78 [00:27<00:47,  1.04it/s]\u001b[A\n",
            "Iteration:  38% 30/78 [00:28<00:46,  1.03it/s]\u001b[A\n",
            "Iteration:  40% 31/78 [00:29<00:45,  1.03it/s]\u001b[A\n",
            "Iteration:  41% 32/78 [00:30<00:44,  1.03it/s]\u001b[A\n",
            "Iteration:  42% 33/78 [00:31<00:43,  1.03it/s]\u001b[A\n",
            "Iteration:  44% 34/78 [00:32<00:43,  1.02it/s]\u001b[A\n",
            "Iteration:  45% 35/78 [00:33<00:42,  1.01it/s]\u001b[A\n",
            "Iteration:  46% 36/78 [00:34<00:41,  1.01it/s]\u001b[A\n",
            "Iteration:  47% 37/78 [00:35<00:40,  1.01it/s]\u001b[A\n",
            "Iteration:  49% 38/78 [00:36<00:39,  1.01it/s]\u001b[A\n",
            "Iteration:  50% 39/78 [00:37<00:38,  1.00it/s]\u001b[A\n",
            "Iteration:  51% 40/78 [00:38<00:38,  1.01s/it]\u001b[A\n",
            "Iteration:  53% 41/78 [00:39<00:37,  1.01s/it]\u001b[A\n",
            "Iteration:  54% 42/78 [00:40<00:36,  1.01s/it]\u001b[A\n",
            "Iteration:  55% 43/78 [00:41<00:35,  1.02s/it]\u001b[A\n",
            "Iteration:  56% 44/78 [00:42<00:34,  1.02s/it]\u001b[A\n",
            "Iteration:  58% 45/78 [00:43<00:33,  1.03s/it]\u001b[A\n",
            "Iteration:  59% 46/78 [00:44<00:32,  1.03s/it]\u001b[A\n",
            "Iteration:  60% 47/78 [00:45<00:31,  1.03s/it]\u001b[A\n",
            "Iteration:  62% 48/78 [00:46<00:31,  1.03s/it]\u001b[A\n",
            "Iteration:  63% 49/78 [00:47<00:30,  1.04s/it]\u001b[A\n",
            "Iteration:  64% 50/78 [00:48<00:29,  1.04s/it]\u001b[A\n",
            "Iteration:  65% 51/78 [00:49<00:28,  1.05s/it]\u001b[A\n",
            "Iteration:  67% 52/78 [00:50<00:27,  1.05s/it]\u001b[A\n",
            "Iteration:  68% 53/78 [00:51<00:26,  1.05s/it]\u001b[A\n",
            "Iteration:  69% 54/78 [00:52<00:25,  1.05s/it]\u001b[A\n",
            "Iteration:  71% 55/78 [00:53<00:24,  1.05s/it]\u001b[A\n",
            "Iteration:  72% 56/78 [00:54<00:23,  1.05s/it]\u001b[A\n",
            "Iteration:  73% 57/78 [00:55<00:22,  1.05s/it]\u001b[A\n",
            "Iteration:  74% 58/78 [00:57<00:21,  1.05s/it]\u001b[A\n",
            "Iteration:  76% 59/78 [00:58<00:20,  1.05s/it]\u001b[A\n",
            "Iteration:  77% 60/78 [00:59<00:18,  1.05s/it]\u001b[A\n",
            "Iteration:  78% 61/78 [01:00<00:17,  1.05s/it]\u001b[A\n",
            "Iteration:  79% 62/78 [01:01<00:16,  1.04s/it]\u001b[A\n",
            "Iteration:  81% 63/78 [01:02<00:15,  1.04s/it]\u001b[A\n",
            "Iteration:  82% 64/78 [01:03<00:14,  1.03s/it]\u001b[A\n",
            "Iteration:  83% 65/78 [01:04<00:13,  1.03s/it]\u001b[A\n",
            "Iteration:  85% 66/78 [01:05<00:12,  1.02s/it]\u001b[A\n",
            "Iteration:  86% 67/78 [01:06<00:11,  1.02s/it]\u001b[A\n",
            "Iteration:  87% 68/78 [01:07<00:10,  1.02s/it]\u001b[A\n",
            "Iteration:  88% 69/78 [01:08<00:09,  1.02s/it]\u001b[A\n",
            "Iteration:  90% 70/78 [01:09<00:08,  1.02s/it]\u001b[A\n",
            "Iteration:  91% 71/78 [01:10<00:07,  1.02s/it]\u001b[A\n",
            "Iteration:  92% 72/78 [01:11<00:06,  1.01s/it]\u001b[A\n",
            "Iteration:  94% 73/78 [01:12<00:05,  1.01s/it]\u001b[A\n",
            "Iteration:  95% 74/78 [01:13<00:04,  1.00s/it]\u001b[A\n",
            "Iteration:  96% 75/78 [01:14<00:03,  1.00s/it]\u001b[A\n",
            "Iteration:  97% 76/78 [01:15<00:01,  1.00it/s]\u001b[A\n",
            "Iteration:  99% 77/78 [01:16<00:00,  1.00it/s]\u001b[A\n",
            "Iteration: 100% 78/78 [01:17<00:00,  1.01it/s]\n",
            "Epoch:  20% 1/5 [01:17<05:09, 77.31s/it]\n",
            "Iteration:   0% 0/78 [00:00<?, ?it/s]\u001b[A\n",
            "Iteration:   1% 1/78 [00:00<01:16,  1.00it/s]\u001b[A\n",
            "Iteration:   3% 2/78 [00:01<01:15,  1.00it/s]\u001b[A\n",
            "Iteration:   4% 3/78 [00:02<01:14,  1.00it/s]\u001b[A\n",
            "Iteration:   5% 4/78 [00:03<01:13,  1.00it/s]\u001b[A\n",
            "Iteration:   6% 5/78 [00:04<01:12,  1.00it/s]\u001b[A\n",
            "Iteration:   8% 6/78 [00:05<01:11,  1.01it/s]\u001b[A\n",
            "Iteration:   9% 7/78 [00:06<01:10,  1.01it/s]\u001b[A\n",
            "Iteration:  10% 8/78 [00:07<01:09,  1.01it/s]\u001b[A\n",
            "Iteration:  12% 9/78 [00:08<01:07,  1.02it/s]\u001b[A\n",
            "Iteration:  13% 10/78 [00:09<01:06,  1.02it/s]\u001b[A\n",
            "Iteration:  14% 11/78 [00:10<01:05,  1.02it/s]\u001b[A\n",
            "Iteration:  15% 12/78 [00:11<01:04,  1.02it/s]\u001b[A\n",
            "Iteration:  17% 13/78 [00:12<01:03,  1.02it/s]\u001b[A\n",
            "Iteration:  18% 14/78 [00:13<01:02,  1.02it/s]\u001b[A\n",
            "Iteration:  19% 15/78 [00:14<01:01,  1.02it/s]\u001b[A\n",
            "Iteration:  21% 16/78 [00:15<01:00,  1.02it/s]\u001b[A\n",
            "Iteration:  22% 17/78 [00:16<00:59,  1.02it/s]\u001b[A\n",
            "Iteration:  23% 18/78 [00:17<00:58,  1.03it/s]\u001b[A\n",
            "Iteration:  24% 19/78 [00:18<00:57,  1.03it/s]\u001b[A\n",
            "Iteration:  26% 20/78 [00:19<00:56,  1.03it/s]\u001b[A\n",
            "Iteration:  27% 21/78 [00:20<00:55,  1.03it/s]\u001b[A\n",
            "Iteration:  28% 22/78 [00:21<00:54,  1.03it/s]\u001b[A\n",
            "Iteration:  29% 23/78 [00:22<00:53,  1.03it/s]\u001b[A\n",
            "Iteration:  31% 24/78 [00:23<00:52,  1.03it/s]\u001b[A\n",
            "Iteration:  32% 25/78 [00:24<00:51,  1.03it/s]\u001b[A\n",
            "Iteration:  33% 26/78 [00:25<00:50,  1.03it/s]\u001b[A\n",
            "Iteration:  35% 27/78 [00:26<00:49,  1.03it/s]\u001b[A\n",
            "Iteration:  36% 28/78 [00:27<00:48,  1.03it/s]\u001b[A\n",
            "Iteration:  37% 29/78 [00:28<00:47,  1.02it/s]\u001b[A\n",
            "Iteration:  38% 30/78 [00:29<00:47,  1.02it/s]\u001b[A\n",
            "Iteration:  40% 31/78 [00:30<00:46,  1.02it/s]\u001b[A\n",
            "Iteration:  41% 32/78 [00:31<00:45,  1.02it/s]\u001b[A\n",
            "Iteration:  42% 33/78 [00:32<00:44,  1.01it/s]\u001b[A\n",
            "Iteration:  44% 34/78 [00:33<00:43,  1.01it/s]\u001b[A\n",
            "Iteration:  45% 35/78 [00:34<00:42,  1.01it/s]\u001b[A\n",
            "Iteration:  46% 36/78 [00:35<00:41,  1.01it/s]\u001b[A\n",
            "Iteration:  47% 37/78 [00:36<00:40,  1.01it/s]\u001b[A\n",
            "Iteration:  49% 38/78 [00:37<00:39,  1.01it/s]\u001b[A\n",
            "Iteration:  50% 39/78 [00:38<00:38,  1.01it/s]\u001b[A\n",
            "Iteration:  51% 40/78 [00:39<00:37,  1.01it/s]\u001b[A\n",
            "Iteration:  53% 41/78 [00:40<00:36,  1.01it/s]\u001b[A\n",
            "Iteration:  54% 42/78 [00:41<00:36,  1.00s/it]\u001b[A\n",
            "Iteration:  55% 43/78 [00:42<00:35,  1.00s/it]\u001b[A\n",
            "Iteration:  56% 44/78 [00:43<00:34,  1.01s/it]\u001b[A\n",
            "Iteration:  58% 45/78 [00:44<00:33,  1.01s/it]\u001b[A\n",
            "Iteration:  59% 46/78 [00:45<00:32,  1.01s/it]\u001b[A\n",
            "Iteration:  60% 47/78 [00:46<00:31,  1.01s/it]\u001b[A\n",
            "Iteration:  62% 48/78 [00:47<00:30,  1.01s/it]\u001b[A\n",
            "Iteration:  63% 49/78 [00:48<00:29,  1.01s/it]\u001b[A\n",
            "Iteration:  64% 50/78 [00:49<00:28,  1.01s/it]\u001b[A\n",
            "Iteration:  65% 51/78 [00:50<00:27,  1.01s/it]\u001b[A\n",
            "Iteration:  67% 52/78 [00:51<00:26,  1.01s/it]\u001b[A\n",
            "Iteration:  68% 53/78 [00:52<00:25,  1.01s/it]\u001b[A\n",
            "Iteration:  69% 54/78 [00:53<00:24,  1.01s/it]\u001b[A\n",
            "Iteration:  71% 55/78 [00:54<00:23,  1.01s/it]\u001b[A\n",
            "Iteration:  72% 56/78 [00:55<00:22,  1.01s/it]\u001b[A\n",
            "Iteration:  73% 57/78 [00:56<00:21,  1.01s/it]\u001b[A\n",
            "Iteration:  74% 58/78 [00:57<00:20,  1.01s/it]\u001b[A\n",
            "Iteration:  76% 59/78 [00:58<00:19,  1.02s/it]\u001b[A\n",
            "Iteration:  77% 60/78 [00:59<00:18,  1.02s/it]\u001b[A\n",
            "Iteration:  78% 61/78 [01:00<00:17,  1.02s/it]\u001b[A\n",
            "Iteration:  79% 62/78 [01:01<00:16,  1.02s/it]\u001b[A\n",
            "Iteration:  81% 63/78 [01:02<00:15,  1.01s/it]\u001b[A\n",
            "Iteration:  82% 64/78 [01:03<00:14,  1.02s/it]\u001b[A\n",
            "Iteration:  83% 65/78 [01:04<00:13,  1.02s/it]\u001b[A\n",
            "Iteration:  85% 66/78 [01:05<00:12,  1.02s/it]\u001b[A\n",
            "Iteration:  86% 67/78 [01:06<00:11,  1.02s/it]\u001b[A\n",
            "Iteration:  87% 68/78 [01:07<00:10,  1.02s/it]\u001b[A\n",
            "Iteration:  88% 69/78 [01:08<00:09,  1.02s/it]\u001b[A\n",
            "Iteration:  90% 70/78 [01:09<00:08,  1.02s/it]\u001b[A\n",
            "Iteration:  91% 71/78 [01:10<00:07,  1.02s/it]\u001b[A\n",
            "Iteration:  92% 72/78 [01:11<00:06,  1.02s/it]\u001b[A\n",
            "Iteration:  94% 73/78 [01:12<00:05,  1.02s/it]\u001b[A\n",
            "Iteration:  95% 74/78 [01:13<00:04,  1.02s/it]\u001b[A\n",
            "Iteration:  96% 75/78 [01:14<00:03,  1.02s/it]\u001b[A\n",
            "Iteration:  97% 76/78 [01:15<00:02,  1.02s/it]\u001b[A\n",
            "Iteration:  99% 77/78 [01:16<00:01,  1.02s/it]\u001b[A\n",
            "Iteration: 100% 78/78 [01:17<00:00,  1.00it/s]\n",
            "Epoch:  40% 2/5 [02:35<03:52, 77.66s/it]\n",
            "Iteration:   0% 0/78 [00:00<?, ?it/s]\u001b[A\n",
            "Iteration:   1% 1/78 [00:01<01:18,  1.02s/it]\u001b[A\n",
            "Iteration:   3% 2/78 [00:02<01:17,  1.02s/it]\u001b[A\n",
            "Iteration:   4% 3/78 [00:03<01:16,  1.02s/it]\u001b[A\n",
            "Iteration:   5% 4/78 [00:04<01:15,  1.02s/it]\u001b[A\n",
            "Iteration:   6% 5/78 [00:05<01:14,  1.02s/it]\u001b[A\n",
            "Iteration:   8% 6/78 [00:06<01:13,  1.02s/it]\u001b[A\n",
            "Iteration:   9% 7/78 [00:07<01:11,  1.01s/it]\u001b[A\n",
            "Iteration:  10% 8/78 [00:08<01:10,  1.01s/it]\u001b[A\n",
            "Iteration:  12% 9/78 [00:09<01:09,  1.01s/it]\u001b[A\n",
            "Iteration:  13% 10/78 [00:10<01:08,  1.01s/it]\u001b[A\n",
            "Iteration:  14% 11/78 [00:11<01:07,  1.01s/it]\u001b[A\n",
            "Iteration:  15% 12/78 [00:12<01:06,  1.01s/it]\u001b[A\n",
            "Iteration:  17% 13/78 [00:13<01:05,  1.01s/it]\u001b[A\n",
            "Iteration:  18% 14/78 [00:14<01:04,  1.00s/it]\u001b[A\n",
            "Iteration:  19% 15/78 [00:15<01:03,  1.00s/it]\u001b[A\n",
            "Iteration:  21% 16/78 [00:16<01:01,  1.00it/s]\u001b[A\n",
            "Iteration:  22% 17/78 [00:17<01:01,  1.00s/it]\u001b[A\n",
            "Iteration:  23% 18/78 [00:18<01:00,  1.00s/it]\u001b[A\n",
            "Iteration:  24% 19/78 [00:19<00:58,  1.00it/s]\u001b[A\n",
            "Iteration:  26% 20/78 [00:20<00:57,  1.00it/s]\u001b[A\n",
            "Iteration:  27% 21/78 [00:21<00:56,  1.00it/s]\u001b[A\n",
            "Iteration:  28% 22/78 [00:22<00:55,  1.00it/s]\u001b[A\n",
            "Iteration:  29% 23/78 [00:23<00:54,  1.00it/s]\u001b[A\n",
            "Iteration:  31% 24/78 [00:24<00:53,  1.00it/s]\u001b[A\n",
            "Iteration:  32% 25/78 [00:25<00:52,  1.00it/s]\u001b[A\n",
            "Iteration:  33% 26/78 [00:26<00:51,  1.00it/s]\u001b[A\n",
            "Iteration:  35% 27/78 [00:27<00:50,  1.00it/s]\u001b[A\n",
            "Iteration:  36% 28/78 [00:28<00:49,  1.00it/s]\u001b[A\n",
            "Iteration:  37% 29/78 [00:29<00:48,  1.00it/s]\u001b[A\n",
            "Iteration:  38% 30/78 [00:30<00:47,  1.01it/s]\u001b[A\n",
            "Iteration:  40% 31/78 [00:31<00:46,  1.01it/s]\u001b[A\n",
            "Iteration:  41% 32/78 [00:32<00:45,  1.01it/s]\u001b[A\n",
            "Iteration:  42% 33/78 [00:33<00:44,  1.01it/s]\u001b[A\n",
            "Iteration:  44% 34/78 [00:34<00:43,  1.00it/s]\u001b[A\n",
            "Iteration:  45% 35/78 [00:35<00:42,  1.01it/s]\u001b[A\n",
            "Iteration:  46% 36/78 [00:36<00:41,  1.01it/s]\u001b[A\n",
            "Iteration:  47% 37/78 [00:37<00:40,  1.01it/s]\u001b[A\n",
            "Iteration:  49% 38/78 [00:38<00:39,  1.00it/s]\u001b[A\n",
            "Iteration:  50% 39/78 [00:39<00:38,  1.00it/s]\u001b[A\n",
            "Iteration:  51% 40/78 [00:40<00:37,  1.00it/s]\u001b[A\n",
            "Iteration:  53% 41/78 [00:41<00:36,  1.00it/s]\u001b[A\n",
            "Iteration:  54% 42/78 [00:42<00:36,  1.00s/it]\u001b[A\n",
            "Iteration:  55% 43/78 [00:43<00:35,  1.00s/it]\u001b[A\n",
            "Iteration:  56% 44/78 [00:44<00:33,  1.00it/s]\u001b[A\n",
            "Iteration:  58% 45/78 [00:45<00:32,  1.00it/s]\u001b[A\n",
            "Iteration:  59% 46/78 [00:46<00:31,  1.00it/s]\u001b[A\n",
            "Iteration:  60% 47/78 [00:47<00:30,  1.00it/s]\u001b[A\n",
            "Iteration:  62% 48/78 [00:48<00:29,  1.00it/s]\u001b[A\n",
            "Iteration:  63% 49/78 [00:49<00:28,  1.00it/s]\u001b[A\n",
            "Iteration:  64% 50/78 [00:50<00:27,  1.00it/s]\u001b[A\n",
            "Iteration:  65% 51/78 [00:50<00:26,  1.00it/s]\u001b[A\n",
            "Iteration:  67% 52/78 [00:51<00:25,  1.00it/s]\u001b[A\n",
            "Iteration:  68% 53/78 [00:52<00:24,  1.00it/s]\u001b[A\n",
            "Iteration:  69% 54/78 [00:53<00:23,  1.00it/s]\u001b[A\n",
            "Iteration:  71% 55/78 [00:54<00:22,  1.01it/s]\u001b[A\n",
            "Iteration:  72% 56/78 [00:55<00:21,  1.00it/s]\u001b[A\n",
            "Iteration:  73% 57/78 [00:56<00:20,  1.00it/s]\u001b[A\n",
            "Iteration:  74% 58/78 [00:57<00:19,  1.00it/s]\u001b[A\n",
            "Iteration:  76% 59/78 [00:58<00:18,  1.00it/s]\u001b[A\n",
            "Iteration:  77% 60/78 [00:59<00:17,  1.00it/s]\u001b[A\n",
            "Iteration:  78% 61/78 [01:00<00:16,  1.00it/s]\u001b[A\n",
            "Iteration:  79% 62/78 [01:01<00:15,  1.00it/s]\u001b[A\n",
            "Iteration:  81% 63/78 [01:02<00:14,  1.00it/s]\u001b[A\n",
            "Iteration:  82% 64/78 [01:03<00:13,  1.00it/s]\u001b[A\n",
            "Iteration:  83% 65/78 [01:04<00:12,  1.00it/s]\u001b[A\n",
            "Iteration:  85% 66/78 [01:05<00:11,  1.00it/s]\u001b[A\n",
            "Iteration:  86% 67/78 [01:06<00:10,  1.00it/s]\u001b[A\n",
            "Iteration:  87% 68/78 [01:07<00:09,  1.00it/s]\u001b[A\n",
            "Iteration:  88% 69/78 [01:08<00:08,  1.00it/s]\u001b[A\n",
            "Iteration:  90% 70/78 [01:09<00:07,  1.00it/s]\u001b[A\n",
            "Iteration:  91% 71/78 [01:10<00:06,  1.00it/s]\u001b[A\n",
            "Iteration:  92% 72/78 [01:11<00:05,  1.00it/s]\u001b[A\n",
            "Iteration:  94% 73/78 [01:12<00:04,  1.00it/s]\u001b[A\n",
            "Iteration:  95% 74/78 [01:13<00:03,  1.00it/s]\u001b[A\n",
            "Iteration:  96% 75/78 [01:14<00:02,  1.00it/s]\u001b[A\n",
            "Iteration:  97% 76/78 [01:15<00:01,  1.00it/s]\u001b[A\n",
            "Iteration:  99% 77/78 [01:16<00:00,  1.00it/s]\u001b[A\n",
            "Iteration: 100% 78/78 [01:17<00:00,  1.00it/s]\n",
            "Epoch:  60% 3/5 [03:53<02:35, 77.77s/it]\n",
            "Iteration:   0% 0/78 [00:00<?, ?it/s]\u001b[A\n",
            "Iteration:   1% 1/78 [00:01<01:17,  1.01s/it]\u001b[A\n",
            "Iteration:   3% 2/78 [00:02<01:16,  1.00s/it]\u001b[A\n",
            "Iteration:   4% 3/78 [00:03<01:15,  1.01s/it]\u001b[A\n",
            "Iteration:   5% 4/78 [00:04<01:14,  1.00s/it]\u001b[A\n",
            "Iteration:   6% 5/78 [00:05<01:13,  1.01s/it]\u001b[A\n",
            "Iteration:   8% 6/78 [00:06<01:12,  1.01s/it]\u001b[A\n",
            "Iteration:   9% 7/78 [00:07<01:11,  1.01s/it]\u001b[A\n",
            "Iteration:  10% 8/78 [00:08<01:10,  1.01s/it]\u001b[A\n",
            "Iteration:  12% 9/78 [00:09<01:09,  1.01s/it]\u001b[A\n",
            "Iteration:  13% 10/78 [00:10<01:08,  1.01s/it]\u001b[A\n",
            "Iteration:  14% 11/78 [00:11<01:07,  1.01s/it]\u001b[A\n",
            "Iteration:  15% 12/78 [00:12<01:06,  1.01s/it]\u001b[A\n",
            "Iteration:  17% 13/78 [00:13<01:05,  1.00s/it]\u001b[A\n",
            "Iteration:  18% 14/78 [00:14<01:04,  1.01s/it]\u001b[A\n",
            "Iteration:  19% 15/78 [00:15<01:03,  1.01s/it]\u001b[A\n",
            "Iteration:  21% 16/78 [00:16<01:02,  1.01s/it]\u001b[A\n",
            "Iteration:  22% 17/78 [00:17<01:01,  1.01s/it]\u001b[A\n",
            "Iteration:  23% 18/78 [00:18<01:00,  1.01s/it]\u001b[A\n",
            "Iteration:  24% 19/78 [00:19<00:59,  1.01s/it]\u001b[A\n",
            "Iteration:  26% 20/78 [00:20<00:58,  1.01s/it]\u001b[A\n",
            "Iteration:  27% 21/78 [00:21<00:57,  1.02s/it]\u001b[A\n",
            "Iteration:  28% 22/78 [00:22<00:56,  1.01s/it]\u001b[A\n",
            "Iteration:  29% 23/78 [00:23<00:55,  1.02s/it]\u001b[A\n",
            "Iteration:  31% 24/78 [00:24<00:54,  1.02s/it]\u001b[A\n",
            "Iteration:  32% 25/78 [00:25<00:53,  1.01s/it]\u001b[A\n",
            "Iteration:  33% 26/78 [00:26<00:52,  1.01s/it]\u001b[A\n",
            "Iteration:  35% 27/78 [00:27<00:51,  1.01s/it]\u001b[A\n",
            "Iteration:  36% 28/78 [00:28<00:50,  1.01s/it]\u001b[A\n",
            "Iteration:  37% 29/78 [00:29<00:49,  1.01s/it]\u001b[A\n",
            "Iteration:  38% 30/78 [00:30<00:48,  1.01s/it]\u001b[A\n",
            "Iteration:  40% 31/78 [00:31<00:47,  1.01s/it]\u001b[A\n",
            "Iteration:  41% 32/78 [00:32<00:46,  1.02s/it]\u001b[A\n",
            "Iteration:  42% 33/78 [00:33<00:45,  1.02s/it]\u001b[A\n",
            "Iteration:  44% 34/78 [00:34<00:44,  1.02s/it]\u001b[A\n",
            "Iteration:  45% 35/78 [00:35<00:43,  1.02s/it]\u001b[A\n",
            "Iteration:  46% 36/78 [00:36<00:42,  1.02s/it]\u001b[A\n",
            "Iteration:  47% 37/78 [00:37<00:41,  1.01s/it]\u001b[A\n",
            "Iteration:  49% 38/78 [00:38<00:40,  1.01s/it]\u001b[A\n",
            "Iteration:  50% 39/78 [00:39<00:39,  1.01s/it]\u001b[A\n",
            "Iteration:  51% 40/78 [00:40<00:38,  1.01s/it]\u001b[A\n",
            "Iteration:  53% 41/78 [00:41<00:37,  1.01s/it]\u001b[A\n",
            "Iteration:  54% 42/78 [00:42<00:36,  1.01s/it]\u001b[A\n",
            "Iteration:  55% 43/78 [00:43<00:35,  1.01s/it]\u001b[A\n",
            "Iteration:  56% 44/78 [00:44<00:34,  1.01s/it]\u001b[A\n",
            "Iteration:  58% 45/78 [00:45<00:33,  1.01s/it]\u001b[A\n",
            "Iteration:  59% 46/78 [00:46<00:32,  1.01s/it]\u001b[A\n",
            "Iteration:  60% 47/78 [00:47<00:31,  1.01s/it]\u001b[A\n",
            "Iteration:  62% 48/78 [00:48<00:30,  1.01s/it]\u001b[A\n",
            "Iteration:  63% 49/78 [00:49<00:29,  1.00s/it]\u001b[A\n",
            "Iteration:  64% 50/78 [00:50<00:28,  1.01s/it]\u001b[A\n",
            "Iteration:  65% 51/78 [00:51<00:27,  1.01s/it]\u001b[A\n",
            "Iteration:  67% 52/78 [00:52<00:26,  1.01s/it]\u001b[A\n",
            "Iteration:  68% 53/78 [00:53<00:25,  1.01s/it]\u001b[A\n",
            "Iteration:  69% 54/78 [00:54<00:24,  1.01s/it]\u001b[A\n",
            "Iteration:  71% 55/78 [00:55<00:23,  1.01s/it]\u001b[A\n",
            "Iteration:  72% 56/78 [00:56<00:22,  1.02s/it]\u001b[A\n",
            "Iteration:  73% 57/78 [00:57<00:21,  1.01s/it]\u001b[A\n",
            "Iteration:  74% 58/78 [00:58<00:20,  1.01s/it]\u001b[A\n",
            "Iteration:  76% 59/78 [00:59<00:19,  1.01s/it]\u001b[A\n",
            "Iteration:  77% 60/78 [01:00<00:18,  1.01s/it]\u001b[A\n",
            "Iteration:  78% 61/78 [01:01<00:17,  1.00s/it]\u001b[A\n",
            "Iteration:  79% 62/78 [01:02<00:16,  1.00s/it]\u001b[A\n",
            "Iteration:  81% 63/78 [01:03<00:14,  1.00it/s]\u001b[A\n",
            "Iteration:  82% 64/78 [01:04<00:13,  1.00it/s]\u001b[A\n",
            "Iteration:  83% 65/78 [01:05<00:13,  1.00s/it]\u001b[A\n",
            "Iteration:  85% 66/78 [01:06<00:12,  1.01s/it]\u001b[A\n",
            "Iteration:  86% 67/78 [01:07<00:11,  1.00s/it]\u001b[A\n",
            "Iteration:  87% 68/78 [01:08<00:10,  1.01s/it]\u001b[A\n",
            "Iteration:  88% 69/78 [01:09<00:09,  1.01s/it]\u001b[A\n",
            "Iteration:  90% 70/78 [01:10<00:08,  1.01s/it]\u001b[A\n",
            "Iteration:  91% 71/78 [01:11<00:07,  1.01s/it]\u001b[A\n",
            "Iteration:  92% 72/78 [01:12<00:06,  1.00s/it]\u001b[A\n",
            "Iteration:  94% 73/78 [01:13<00:05,  1.01s/it]\u001b[A\n",
            "Iteration:  95% 74/78 [01:14<00:04,  1.00s/it]\u001b[A\n",
            "Iteration:  96% 75/78 [01:15<00:03,  1.00s/it]\u001b[A\n",
            "Iteration:  97% 76/78 [01:16<00:02,  1.00s/it]\u001b[A\n",
            "Iteration:  99% 77/78 [01:17<00:01,  1.00s/it]\u001b[A\n",
            "Iteration: 100% 78/78 [01:18<00:00,  1.01s/it]\n",
            "Epoch:  80% 4/5 [05:11<01:18, 78.13s/it]\n",
            "Iteration:   0% 0/78 [00:00<?, ?it/s]\u001b[A\n",
            "Iteration:   1% 1/78 [00:00<01:16,  1.00it/s]\u001b[A\n",
            "Iteration:   3% 2/78 [00:01<01:15,  1.00it/s]\u001b[A\n",
            "Iteration:   4% 3/78 [00:03<01:15,  1.00s/it]\u001b[A\n",
            "Iteration:   5% 4/78 [00:04<01:14,  1.00s/it]\u001b[A\n",
            "Iteration:   6% 5/78 [00:04<01:12,  1.00it/s]\u001b[A\n",
            "Iteration:   8% 6/78 [00:05<01:11,  1.00it/s]\u001b[A\n",
            "Iteration:   9% 7/78 [00:06<01:10,  1.00it/s]\u001b[A\n",
            "Iteration:  10% 8/78 [00:07<01:09,  1.00it/s]\u001b[A\n",
            "Iteration:  12% 9/78 [00:08<01:08,  1.00it/s]\u001b[A\n",
            "Iteration:  13% 10/78 [00:09<01:07,  1.00it/s]\u001b[A\n",
            "Iteration:  14% 11/78 [00:10<01:06,  1.00it/s]\u001b[A\n",
            "Iteration:  15% 12/78 [00:11<01:06,  1.00s/it]\u001b[A\n",
            "Iteration:  17% 13/78 [00:12<01:05,  1.00s/it]\u001b[A\n",
            "Iteration:  18% 14/78 [00:13<01:04,  1.00s/it]\u001b[A\n",
            "Iteration:  19% 15/78 [00:14<01:03,  1.00s/it]\u001b[A\n",
            "Iteration:  21% 16/78 [00:15<01:01,  1.00it/s]\u001b[A\n",
            "Iteration:  22% 17/78 [00:17<01:01,  1.01s/it]\u001b[A\n",
            "Iteration:  23% 18/78 [00:18<01:00,  1.01s/it]\u001b[A\n",
            "Iteration:  24% 19/78 [00:19<00:59,  1.01s/it]\u001b[A\n",
            "Iteration:  26% 20/78 [00:20<00:58,  1.01s/it]\u001b[A\n",
            "Iteration:  27% 21/78 [00:21<00:57,  1.01s/it]\u001b[A\n",
            "Iteration:  28% 22/78 [00:22<00:56,  1.01s/it]\u001b[A\n",
            "Iteration:  29% 23/78 [00:23<00:55,  1.01s/it]\u001b[A\n",
            "Iteration:  31% 24/78 [00:24<00:54,  1.00s/it]\u001b[A\n",
            "Iteration:  32% 25/78 [00:25<00:53,  1.00s/it]\u001b[A\n",
            "Iteration:  33% 26/78 [00:26<00:52,  1.00s/it]\u001b[A\n",
            "Iteration:  35% 27/78 [00:27<00:51,  1.00s/it]\u001b[A\n",
            "Iteration:  36% 28/78 [00:28<00:50,  1.00s/it]\u001b[A\n",
            "Iteration:  37% 29/78 [00:29<00:49,  1.00s/it]\u001b[A\n",
            "Iteration:  38% 30/78 [00:30<00:48,  1.00s/it]\u001b[A\n",
            "Iteration:  40% 31/78 [00:31<00:47,  1.01s/it]\u001b[A\n",
            "Iteration:  41% 32/78 [00:32<00:46,  1.00s/it]\u001b[A\n",
            "Iteration:  42% 33/78 [00:33<00:45,  1.00s/it]\u001b[A\n",
            "Iteration:  44% 34/78 [00:34<00:43,  1.00it/s]\u001b[A\n",
            "Iteration:  45% 35/78 [00:35<00:42,  1.00it/s]\u001b[A\n",
            "Iteration:  46% 36/78 [00:36<00:41,  1.00it/s]\u001b[A\n",
            "Iteration:  47% 37/78 [00:37<00:40,  1.00it/s]\u001b[A\n",
            "Iteration:  49% 38/78 [00:38<00:39,  1.00it/s]\u001b[A\n",
            "Iteration:  50% 39/78 [00:39<00:38,  1.00it/s]\u001b[A\n",
            "Iteration:  51% 40/78 [00:40<00:37,  1.00it/s]\u001b[A\n",
            "Iteration:  53% 41/78 [00:41<00:36,  1.00it/s]\u001b[A\n",
            "Iteration:  54% 42/78 [00:42<00:35,  1.00it/s]\u001b[A\n",
            "Iteration:  55% 43/78 [00:43<00:34,  1.00it/s]\u001b[A\n",
            "Iteration:  56% 44/78 [00:44<00:33,  1.00it/s]\u001b[A\n",
            "Iteration:  58% 45/78 [00:45<00:32,  1.00it/s]\u001b[A\n",
            "Iteration:  59% 46/78 [00:46<00:31,  1.00it/s]\u001b[A\n",
            "Iteration:  60% 47/78 [00:47<00:31,  1.00s/it]\u001b[A\n",
            "Iteration:  62% 48/78 [00:48<00:30,  1.01s/it]\u001b[A\n",
            "Iteration:  63% 49/78 [00:49<00:29,  1.01s/it]\u001b[A\n",
            "Iteration:  64% 50/78 [00:50<00:28,  1.01s/it]\u001b[A\n",
            "Iteration:  65% 51/78 [00:51<00:27,  1.01s/it]\u001b[A\n",
            "Iteration:  67% 52/78 [00:52<00:26,  1.02s/it]\u001b[A\n",
            "Iteration:  68% 53/78 [00:53<00:25,  1.01s/it]\u001b[A\n",
            "Iteration:  69% 54/78 [00:54<00:24,  1.02s/it]\u001b[A\n",
            "Iteration:  71% 55/78 [00:55<00:23,  1.01s/it]\u001b[A\n",
            "Iteration:  72% 56/78 [00:56<00:22,  1.02s/it]\u001b[A\n",
            "Iteration:  73% 57/78 [00:57<00:21,  1.02s/it]\u001b[A\n",
            "Iteration:  74% 58/78 [00:58<00:20,  1.02s/it]\u001b[A\n",
            "Iteration:  76% 59/78 [00:59<00:19,  1.02s/it]\u001b[A\n",
            "Iteration:  77% 60/78 [01:00<00:18,  1.02s/it]\u001b[A\n",
            "Iteration:  78% 61/78 [01:01<00:17,  1.02s/it]\u001b[A\n",
            "Iteration:  79% 62/78 [01:02<00:16,  1.02s/it]\u001b[A\n",
            "Iteration:  81% 63/78 [01:03<00:15,  1.02s/it]\u001b[A\n",
            "Iteration:  82% 64/78 [01:04<00:14,  1.02s/it]\u001b[A\n",
            "Iteration:  83% 65/78 [01:05<00:13,  1.02s/it]\u001b[A\n",
            "Iteration:  85% 66/78 [01:06<00:12,  1.02s/it]\u001b[A\n",
            "Iteration:  86% 67/78 [01:07<00:11,  1.02s/it]\u001b[A\n",
            "Iteration:  87% 68/78 [01:08<00:10,  1.02s/it]\u001b[A\n",
            "Iteration:  88% 69/78 [01:09<00:09,  1.02s/it]\u001b[A\n",
            "Iteration:  90% 70/78 [01:10<00:08,  1.02s/it]\u001b[A\n",
            "Iteration:  91% 71/78 [01:11<00:07,  1.02s/it]\u001b[A\n",
            "Iteration:  92% 72/78 [01:12<00:06,  1.02s/it]\u001b[A\n",
            "Iteration:  94% 73/78 [01:13<00:05,  1.02s/it]\u001b[A\n",
            "Iteration:  95% 74/78 [01:14<00:04,  1.02s/it]\u001b[A\n",
            "Iteration:  96% 75/78 [01:15<00:03,  1.02s/it]\u001b[A\n",
            "Iteration:  97% 76/78 [01:16<00:02,  1.02s/it]\u001b[A\n",
            "Iteration:  99% 77/78 [01:17<00:01,  1.02s/it]\u001b[A\n",
            "Iteration: 100% 78/78 [01:18<00:00,  1.01s/it]\n",
            "Epoch: 100% 5/5 [06:30<00:00, 78.08s/it]\n",
            "08/18/2022 08:44:32 - INFO - __main__ -    global_step = 390, average loss = 2.986173947652181\n",
            "08/18/2022 08:44:32 - INFO - __main__ -   Saving model checkpoint to models/essays\n",
            "08/18/2022 08:44:39 - INFO - __main__ -   Evaluate the following checkpoints: ['models/essays']\n",
            "08/18/2022 08:44:44 - INFO - __main__ -   Creating features from dataset file at \n",
            "08/18/2022 08:44:44 - INFO - __main__ -   Saving features into cached file gpt2_cached_lm_2048_valid.txt\n",
            "08/18/2022 08:44:44 - INFO - __main__ -   ***** Running evaluation  *****\n",
            "08/18/2022 08:44:44 - INFO - __main__ -     Num examples = 13\n",
            "08/18/2022 08:44:44 - INFO - __main__ -     Batch size = 4\n",
            "Evaluating: 100% 4/4 [00:04<00:00,  1.13s/it]\n",
            "08/18/2022 08:44:49 - INFO - __main__ -   ***** Eval results  *****\n",
            "08/18/2022 08:44:49 - INFO - __main__ -     perplexity = tensor(46.3815)\n"
          ]
        }
      ],
      "source": [
        "!export PYTHONPATH=${PYTHONPATH}:/ru-gpts/\n",
        "!CUDA_VISIBLE_DEVICES=0 python ru-gpts/pretrain_transformers.py \\\n",
        "    --output_dir=models/essays \\\n",
        "    --model_type=gpt2 \\\n",
        "    --model_name_or_path=sberbank-ai/rugpt3small_based_on_gpt2 \\\n",
        "    --do_train \\\n",
        "    --train_data_file=train.txt \\\n",
        "    --do_eval \\\n",
        "    --eval_data_file=valid.txt \\\n",
        "    --per_gpu_train_batch_size 1 \\\n",
        "    --gradient_accumulation_steps 1 \\\n",
        "    --num_train_epochs 5 \\\n",
        "    --block_size 2048 \\\n",
        "    --overwrite_output_dir"
      ]
    },
    {
      "cell_type": "markdown",
      "metadata": {
        "id": "QvgntLymArg3"
      },
      "source": [
        "## Evaluate model\n",
        "### Generate with generate_transformers.py script."
      ]
    },
    {
      "cell_type": "code",
      "execution_count": null,
      "metadata": {
        "colab": {
          "base_uri": "https://localhost:8080/"
        },
        "id": "qYnswPyr9CVw",
        "outputId": "839e6472-83b7-411d-c733-a2493c43732b"
      },
      "outputs": [
        {
          "output_type": "stream",
          "name": "stdout",
          "text": [
            "08/18/2022 08:45:01 - INFO - __main__ -   Namespace(device=device(type='cuda'), k=5, length=500, model_name_or_path='models/essays', model_type='gpt2', n_gpu=1, no_cuda=False, num_return_sequences=1, p=0.95, padding_text='', prompt='', repetition_penalty=5.0, seed=42, stop_token='</s>', temperature=1.0, xlm_language='')\n",
            "Context >>> Утро\n",
            "Setting `pad_token_id` to `eos_token_id`:50256 for open-end generation.\n",
            "ruGPT:\n",
            "Утро было ясное. Он проснулся рано, в пять часов утра и чувствовал себя совершенно разбитым: он видел только одно - свою жену; но она улыбалась ему так нежно-сладко (какою бывает улыбка женщины), что у него не оставалось ни малейшего сомнения или даже тени страха перед нею при виде ее красивого лица с таким выражением любви к ней самой... Она говорила по французски со всеми встречными мужчинами на свете! А потом они пошли обедать ужинать. В доме был беспорядок, все были заняты работой над книгой о войне графа Безухого ; а около дома была еще большая толпа народа гулявших за домом гостей Петербурга : офицеров французской армии под начальством князя Курагина для того чтобы отпраздновать приезд Кутузова домой накануне смотра войск Кутузовской линии во всей его силе духа русского оружия против французов вместе взятых! И вот как раз когда князь Василий вошел опять после обеда из столовой дворца Апраксина двора ко двору великого визиря Александра Павловича Мюрата навстречу князю Василью подошел граф Андрей Болконский собственной персоной без сюртука... Князь остановился подле графини Ростовой от имени главнокомандующего русских императоров Николая Михайловича Толстого прямо напротив дивана Екатерины Викторовны Долгорукиной своей жены Марии Феодоровной Толстой Анны Михайловне Теляниной рядом сидевшей тетушкой Прасковьей Ивановною Шерервой.. Граф смотрел то одним глазом своим сквозь очки высоко задвинутых назад глаза кверху своими длинными тонкими бровями вверх устремляя свой взор куда нибудь вдаль невидящими глазами.. Но вдруг взгляд этот упал почемуто совсем низко между глаз своих женщин.... Пьер поднял голову выше своего отражения этого взгляда до тех пор пока графиня ничего уже больше никогда им бы взглядом видеть себе такого же места своему мужу? Нет нет да будет это!... Это должно быть неизбежно..., сказал вслух сам собой про свое желание всякий человек имеющий право верить всякому слову Бога прежде чем говорить неправду Богу самому через людей чрез Него Самому Бог послал Своего Сына Единородного Святого Духа Своим святым Духом Святыя крестным путем всем нам давая жизнь вечную веру любовь родителей наших дать ей силу принять смерть которую мы должны нести ради нее одну ибо наша вера есть наше призвание Божие потому я говорю вам Я даю власть верующим поступать согласно заповедям Господа нашего Иисуса Христа Спасителя нашедшего мир живущим вероотступникам воздать каждому должное Вера христианская укрепляет нас надеждой получить ответы Божии об упокоении души нашей Отче Наш Который дал просимое человеку спасение спастися душам нашим Верующий должен всегда исполнять заповеди Госпо\n",
            "Context >>> Traceback (most recent call last):\n",
            "  File \"ru-gpts/generate_transformers.py\", line 268, in <module>\n",
            "    main()\n",
            "  File \"ru-gpts/generate_transformers.py\", line 213, in main\n",
            "    prompt_text = args.prompt if args.prompt else input(\"Context >>> \")\n",
            "KeyboardInterrupt\n"
          ]
        }
      ],
      "source": [
        "!python ru-gpts/generate_transformers.py \\\n",
        "    --model_type=gpt2 \\\n",
        "    --model_name_or_path=models/essays \\\n",
        "    --k=5 \\\n",
        "    --p=0.95 \\\n",
        "    --length=500 \\\n",
        "    --repetition_penalty=5"
      ]
    },
    {
      "cell_type": "markdown",
      "source": [
        "## Zip and copy on Google drive"
      ],
      "metadata": {
        "id": "W_rL27eEivft"
      }
    },
    {
      "cell_type": "code",
      "source": [
        "!zip -r /content/models /content/"
      ],
      "metadata": {
        "colab": {
          "base_uri": "https://localhost:8080/"
        },
        "id": "PxQ49d7Ge6Ak",
        "outputId": "27c5a69b-9ce8-49e1-aee6-debf8686658e"
      },
      "execution_count": null,
      "outputs": [
        {
          "output_type": "stream",
          "name": "stdout",
          "text": [
            "  adding: content/ (stored 0%)\n",
            "  adding: content/.config/ (stored 0%)\n",
            "  adding: content/.config/gce (stored 0%)\n",
            "  adding: content/.config/.last_survey_prompt.yaml (stored 0%)\n",
            "  adding: content/.config/.last_opt_in_prompt.yaml (stored 0%)\n",
            "  adding: content/.config/active_config (stored 0%)\n",
            "  adding: content/.config/configurations/ (stored 0%)\n",
            "  adding: content/.config/configurations/config_default (deflated 15%)\n",
            "  adding: content/.config/config_sentinel (stored 0%)\n",
            "  adding: content/.config/logs/ (stored 0%)\n",
            "  adding: content/.config/logs/2022.08.15/ (stored 0%)\n",
            "  adding: content/.config/logs/2022.08.15/13.44.40.370262.log (deflated 55%)\n",
            "  adding: content/.config/logs/2022.08.15/13.44.12.999341.log (deflated 86%)\n",
            "  adding: content/.config/logs/2022.08.15/13.43.32.260465.log (deflated 91%)\n",
            "  adding: content/.config/logs/2022.08.15/13.44.41.125604.log (deflated 54%)\n",
            "  adding: content/.config/logs/2022.08.15/13.43.53.840714.log (deflated 53%)\n",
            "  adding: content/.config/logs/2022.08.15/13.44.20.441098.log (deflated 54%)\n",
            "  adding: content/.config/.last_update_check.json (deflated 22%)\n",
            "  adding: content/valid.txt (deflated 71%)\n",
            "  adding: content/runs/ (stored 0%)\n",
            "  adding: content/runs/Aug18_08-38-01_85f2b3bf830b/ (stored 0%)\n",
            "  adding: content/runs/Aug18_08-38-01_85f2b3bf830b/events.out.tfevents.1660811881.85f2b3bf830b.1181.0 (deflated 5%)\n",
            "  adding: content/gpt2_cached_lm_2048_valid.txt (deflated 41%)\n",
            "  adding: content/models/ (stored 0%)\n",
            "  adding: content/models/essays/ (stored 0%)\n",
            "  adding: content/models/essays/special_tokens_map.json (deflated 72%)\n",
            "  adding: content/models/essays/config.json (deflated 48%)\n",
            "  adding: content/models/essays/tokenizer_config.json (deflated 66%)\n",
            "  adding: content/models/essays/merges.txt (deflated 76%)\n",
            "  adding: content/models/essays/vocab.json (deflated 76%)\n",
            "  adding: content/models/essays/pytorch_model.bin (deflated 16%)\n",
            "  adding: content/models/essays/eval_results.txt (stored 0%)\n",
            "  adding: content/models/essays/training_args.bin (deflated 42%)\n",
            "  adding: content/train.txt (deflated 73%)\n",
            "  adding: content/gpt2_cached_lm_2048_train.txt (deflated 44%)\n",
            "  adding: content/ru-gpts/ (stored 0%)\n",
            "  adding: content/ru-gpts/generate_transformers.py (deflated 64%)\n",
            "  adding: content/ru-gpts/convert2huggingface.py (deflated 45%)\n",
            "  adding: content/ru-gpts/scripts/ (stored 0%)\n",
            "  adding: content/ru-gpts/scripts/deepspeed_gpt3_medium.sh (deflated 55%)\n",
            "  adding: content/ru-gpts/scripts/deepspeed_gpt3_small.sh (deflated 55%)\n",
            "  adding: content/ru-gpts/scripts/deepspeed_gpt3_xl.sh (deflated 53%)\n",
            "  adding: content/ru-gpts/scripts/deepspeed_gpt3_large.sh (deflated 53%)\n",
            "  adding: content/ru-gpts/scripts/deepspeed_gpt3_xl_finetune.sh (deflated 55%)\n",
            "  adding: content/ru-gpts/examples/ (stored 0%)\n",
            "  adding: content/ru-gpts/examples/Finetune_RuGPTs_with_HF.ipynb (deflated 68%)\n",
            "  adding: content/ru-gpts/examples/Finetune_and_generate_RuGPTs_only_with_megatron.ipynb (deflated 75%)\n",
            "  adding: content/ru-gpts/examples/ruGPT3XL_finetune_example.ipynb (deflated 65%)\n",
            "  adding: content/ru-gpts/examples/Finetune_and_generate_RuGPTs_deepspeed_megatron.ipynb (deflated 75%)\n",
            "  adding: content/ru-gpts/examples/Generate_text_with_RuGPTs_HF.ipynb (deflated 76%)\n",
            "  adding: content/ru-gpts/examples/ruGPT3XL_generation.ipynb (deflated 77%)\n",
            "  adding: content/ru-gpts/requirements.txt (deflated 20%)\n",
            "  adding: content/ru-gpts/.gitignore (deflated 44%)\n",
            "  adding: content/ru-gpts/src_utils/ (stored 0%)\n",
            "  adding: content/ru-gpts/src_utils/trainer_pt_utils.py (deflated 71%)\n",
            "  adding: content/ru-gpts/pretrain_gpt3.py (deflated 73%)\n",
            "  adding: content/ru-gpts/generate_samples.py (deflated 66%)\n",
            "  adding: content/ru-gpts/.git/ (stored 0%)\n",
            "  adding: content/ru-gpts/.git/info/ (stored 0%)\n",
            "  adding: content/ru-gpts/.git/info/exclude (deflated 28%)\n",
            "  adding: content/ru-gpts/.git/description (deflated 14%)\n",
            "  adding: content/ru-gpts/.git/objects/ (stored 0%)\n",
            "  adding: content/ru-gpts/.git/objects/info/ (stored 0%)\n",
            "  adding: content/ru-gpts/.git/objects/pack/ (stored 0%)\n",
            "  adding: content/ru-gpts/.git/objects/pack/pack-43644c0c7b76829da585958a26999ddf246ada40.pack (deflated 1%)\n",
            "  adding: content/ru-gpts/.git/objects/pack/pack-43644c0c7b76829da585958a26999ddf246ada40.idx (deflated 4%)\n",
            "  adding: content/ru-gpts/.git/hooks/ (stored 0%)\n",
            "  adding: content/ru-gpts/.git/hooks/applypatch-msg.sample (deflated 42%)\n",
            "  adding: content/ru-gpts/.git/hooks/post-update.sample (deflated 27%)\n",
            "  adding: content/ru-gpts/.git/hooks/update.sample (deflated 68%)\n",
            "  adding: content/ru-gpts/.git/hooks/pre-push.sample (deflated 50%)\n",
            "  adding: content/ru-gpts/.git/hooks/prepare-commit-msg.sample (deflated 50%)\n",
            "  adding: content/ru-gpts/.git/hooks/pre-commit.sample (deflated 43%)\n",
            "  adding: content/ru-gpts/.git/hooks/pre-receive.sample (deflated 40%)\n",
            "  adding: content/ru-gpts/.git/hooks/fsmonitor-watchman.sample (deflated 53%)\n",
            "  adding: content/ru-gpts/.git/hooks/pre-rebase.sample (deflated 59%)\n",
            "  adding: content/ru-gpts/.git/hooks/pre-applypatch.sample (deflated 38%)\n",
            "  adding: content/ru-gpts/.git/hooks/commit-msg.sample (deflated 44%)\n",
            "  adding: content/ru-gpts/.git/index (deflated 53%)\n",
            "  adding: content/ru-gpts/.git/HEAD (stored 0%)\n",
            "  adding: content/ru-gpts/.git/branches/ (stored 0%)\n",
            "  adding: content/ru-gpts/.git/packed-refs (deflated 34%)\n",
            "  adding: content/ru-gpts/.git/refs/ (stored 0%)\n",
            "  adding: content/ru-gpts/.git/refs/remotes/ (stored 0%)\n",
            "  adding: content/ru-gpts/.git/refs/remotes/origin/ (stored 0%)\n",
            "  adding: content/ru-gpts/.git/refs/remotes/origin/HEAD (stored 0%)\n",
            "  adding: content/ru-gpts/.git/refs/heads/ (stored 0%)\n",
            "  adding: content/ru-gpts/.git/refs/heads/master (stored 0%)\n",
            "  adding: content/ru-gpts/.git/refs/tags/ (stored 0%)\n",
            "  adding: content/ru-gpts/.git/logs/ (stored 0%)\n",
            "  adding: content/ru-gpts/.git/logs/HEAD (deflated 29%)\n",
            "  adding: content/ru-gpts/.git/logs/refs/ (stored 0%)\n",
            "  adding: content/ru-gpts/.git/logs/refs/remotes/ (stored 0%)\n",
            "  adding: content/ru-gpts/.git/logs/refs/remotes/origin/ (stored 0%)\n",
            "  adding: content/ru-gpts/.git/logs/refs/remotes/origin/HEAD (deflated 29%)\n",
            "  adding: content/ru-gpts/.git/logs/refs/heads/ (stored 0%)\n",
            "  adding: content/ru-gpts/.git/logs/refs/heads/master (deflated 29%)\n",
            "  adding: content/ru-gpts/.git/config (deflated 33%)\n",
            "  adding: content/ru-gpts/README.md (deflated 69%)\n",
            "  adding: content/ru-gpts/LICENSE (deflated 65%)\n",
            "  adding: content/ru-gpts/src/ (stored 0%)\n",
            "  adding: content/ru-gpts/src/utils.py (deflated 74%)\n",
            "  adding: content/ru-gpts/src/download_utils.py (deflated 71%)\n",
            "  adding: content/ru-gpts/src/fp16/ (stored 0%)\n",
            "  adding: content/ru-gpts/src/fp16/fp16util.py (deflated 69%)\n",
            "  adding: content/ru-gpts/src/fp16/__init__.py (deflated 43%)\n",
            "  adding: content/ru-gpts/src/fp16/loss_scaler.py (deflated 68%)\n",
            "  adding: content/ru-gpts/src/fp16/fp16.py (deflated 73%)\n",
            "  adding: content/ru-gpts/src/model/ (stored 0%)\n",
            "  adding: content/ru-gpts/src/model/gpt3_modeling.py (deflated 70%)\n",
            "  adding: content/ru-gpts/src/model/__init__.py (deflated 40%)\n",
            "  adding: content/ru-gpts/src/model/distributed.py (deflated 65%)\n",
            "  adding: content/ru-gpts/src/learning_rates.py (deflated 64%)\n",
            "  adding: content/ru-gpts/src/data_utils/ (stored 0%)\n",
            "  adding: content/ru-gpts/src/data_utils/file_utils.py (deflated 67%)\n",
            "  adding: content/ru-gpts/src/data_utils/lazy_loader.py (deflated 66%)\n",
            "  adding: content/ru-gpts/src/data_utils/__init__.py (deflated 38%)\n",
            "  adding: content/ru-gpts/src/gpt3_data_loader.py (deflated 66%)\n",
            "  adding: content/ru-gpts/src/deepspeed_config/ (stored 0%)\n",
            "  adding: content/ru-gpts/src/deepspeed_config/gpt3_small_2048.json (deflated 43%)\n",
            "  adding: content/ru-gpts/src/deepspeed_config/gpt3_xl_sparse.json (deflated 52%)\n",
            "  adding: content/ru-gpts/src/deepspeed_config/gpt3_large_2048.json (deflated 38%)\n",
            "  adding: content/ru-gpts/src/deepspeed_config/gpt3_small_sparse.json (deflated 52%)\n",
            "  adding: content/ru-gpts/src/deepspeed_config/gpt2_small.json (deflated 49%)\n",
            "  adding: content/ru-gpts/src/deepspeed_config/gpt3_xl_sparse_2048.json (deflated 52%)\n",
            "  adding: content/ru-gpts/src/deepspeed_config/gpt3_small.json (deflated 43%)\n",
            "  adding: content/ru-gpts/src/deepspeed_config/gpt3_large.json (deflated 50%)\n",
            "  adding: content/ru-gpts/src/deepspeed_config/gpt3_small_sparse_2048.json (deflated 52%)\n",
            "  adding: content/ru-gpts/src/deepspeed_config/gpt3_medium_2048.json (deflated 43%)\n",
            "  adding: content/ru-gpts/src/__init__.py (stored 0%)\n",
            "  adding: content/ru-gpts/src/xl_wrapper.py (deflated 74%)\n",
            "  adding: content/ru-gpts/src/arguments.py (deflated 76%)\n",
            "  adding: content/ru-gpts/src/dataset_rugpt3.py (deflated 67%)\n",
            "  adding: content/ru-gpts/src/mpu/ (stored 0%)\n",
            "  adding: content/ru-gpts/src/mpu/layers.py (deflated 79%)\n",
            "  adding: content/ru-gpts/src/mpu/utils.py (deflated 61%)\n",
            "  adding: content/ru-gpts/src/mpu/mappings.py (deflated 71%)\n",
            "  adding: content/ru-gpts/src/mpu/transformer.py (deflated 78%)\n",
            "  adding: content/ru-gpts/src/mpu/data.py (deflated 64%)\n",
            "  adding: content/ru-gpts/src/mpu/grads.py (deflated 61%)\n",
            "  adding: content/ru-gpts/src/mpu/__init__.py (deflated 62%)\n",
            "  adding: content/ru-gpts/src/mpu/cross_entropy.py (deflated 66%)\n",
            "  adding: content/ru-gpts/src/mpu/initialize.py (deflated 70%)\n",
            "  adding: content/ru-gpts/src/mpu/random.py (deflated 70%)\n",
            "  adding: content/ru-gpts/pretrain_transformers.py (deflated 74%)\n",
            "  adding: content/sample_data/ (stored 0%)\n",
            "  adding: content/sample_data/anscombe.json (deflated 83%)\n",
            "  adding: content/sample_data/README.md (deflated 42%)\n",
            "  adding: content/sample_data/mnist_test.csv (deflated 88%)\n",
            "  adding: content/sample_data/mnist_train_small.csv (deflated 88%)\n",
            "  adding: content/sample_data/california_housing_test.csv (deflated 76%)\n",
            "  adding: content/sample_data/california_housing_train.csv (deflated 79%)\n"
          ]
        }
      ]
    },
    {
      "cell_type": "code",
      "source": [
        "from google.colab import drive\n",
        "drive.mount('drive')"
      ],
      "metadata": {
        "colab": {
          "base_uri": "https://localhost:8080/"
        },
        "id": "eUxPUFfWfBcJ",
        "outputId": "349047f9-9d12-4a60-942c-06f36918b130"
      },
      "execution_count": null,
      "outputs": [
        {
          "output_type": "stream",
          "name": "stdout",
          "text": [
            "Mounted at drive\n"
          ]
        }
      ]
    },
    {
      "cell_type": "code",
      "source": [
        "!cp models.zip \"drive/My Drive/\""
      ],
      "metadata": {
        "id": "XSNePr_hifAX"
      },
      "execution_count": null,
      "outputs": []
    },
    {
      "cell_type": "markdown",
      "metadata": {
        "id": "K7_jIWhVBKay"
      },
      "source": [
        "### Generate mannualy"
      ]
    },
    {
      "cell_type": "code",
      "execution_count": null,
      "metadata": {
        "id": "csHcDJXFDdaW"
      },
      "outputs": [],
      "source": [
        "import numpy as np\n",
        "import torch"
      ]
    },
    {
      "cell_type": "code",
      "execution_count": null,
      "metadata": {
        "id": "TJxPg-cJDhAB",
        "colab": {
          "base_uri": "https://localhost:8080/"
        },
        "outputId": "18d02115-ec4b-4d5e-d56e-c0fafc6b791f"
      },
      "outputs": [
        {
          "output_type": "execute_result",
          "data": {
            "text/plain": [
              "<torch._C.Generator at 0x7fd63538f490>"
            ]
          },
          "metadata": {},
          "execution_count": 17
        }
      ],
      "source": [
        "np.random.seed(42)\n",
        "torch.manual_seed(42)"
      ]
    },
    {
      "cell_type": "code",
      "execution_count": null,
      "metadata": {
        "id": "AkUrzKsy_16F"
      },
      "outputs": [],
      "source": [
        "from transformers import GPT2LMHeadModel, GPT2Tokenizer"
      ]
    },
    {
      "cell_type": "code",
      "execution_count": null,
      "metadata": {
        "id": "x_EMbgO0BTvb"
      },
      "outputs": [],
      "source": [
        "tok = GPT2Tokenizer.from_pretrained(\"models/essays\")"
      ]
    },
    {
      "cell_type": "code",
      "execution_count": null,
      "metadata": {
        "id": "Fjy0GAuQBYpA"
      },
      "outputs": [],
      "source": [
        "model = GPT2LMHeadModel.from_pretrained(\"models/essays\")"
      ]
    },
    {
      "cell_type": "code",
      "execution_count": null,
      "metadata": {
        "id": "irh4H-HDBb6V",
        "colab": {
          "base_uri": "https://localhost:8080/"
        },
        "outputId": "3be844c2-ecb3-428f-8833-efb17077451b"
      },
      "outputs": [
        {
          "output_type": "execute_result",
          "data": {
            "text/plain": [
              "GPT2LMHeadModel(\n",
              "  (transformer): GPT2Model(\n",
              "    (wte): Embedding(50257, 768)\n",
              "    (wpe): Embedding(2048, 768)\n",
              "    (drop): Dropout(p=0.1, inplace=False)\n",
              "    (h): ModuleList(\n",
              "      (0): Block(\n",
              "        (ln_1): LayerNorm((768,), eps=1e-05, elementwise_affine=True)\n",
              "        (attn): Attention(\n",
              "          (c_attn): Conv1D()\n",
              "          (c_proj): Conv1D()\n",
              "          (attn_dropout): Dropout(p=0.1, inplace=False)\n",
              "          (resid_dropout): Dropout(p=0.1, inplace=False)\n",
              "        )\n",
              "        (ln_2): LayerNorm((768,), eps=1e-05, elementwise_affine=True)\n",
              "        (mlp): MLP(\n",
              "          (c_fc): Conv1D()\n",
              "          (c_proj): Conv1D()\n",
              "          (dropout): Dropout(p=0.1, inplace=False)\n",
              "        )\n",
              "      )\n",
              "      (1): Block(\n",
              "        (ln_1): LayerNorm((768,), eps=1e-05, elementwise_affine=True)\n",
              "        (attn): Attention(\n",
              "          (c_attn): Conv1D()\n",
              "          (c_proj): Conv1D()\n",
              "          (attn_dropout): Dropout(p=0.1, inplace=False)\n",
              "          (resid_dropout): Dropout(p=0.1, inplace=False)\n",
              "        )\n",
              "        (ln_2): LayerNorm((768,), eps=1e-05, elementwise_affine=True)\n",
              "        (mlp): MLP(\n",
              "          (c_fc): Conv1D()\n",
              "          (c_proj): Conv1D()\n",
              "          (dropout): Dropout(p=0.1, inplace=False)\n",
              "        )\n",
              "      )\n",
              "      (2): Block(\n",
              "        (ln_1): LayerNorm((768,), eps=1e-05, elementwise_affine=True)\n",
              "        (attn): Attention(\n",
              "          (c_attn): Conv1D()\n",
              "          (c_proj): Conv1D()\n",
              "          (attn_dropout): Dropout(p=0.1, inplace=False)\n",
              "          (resid_dropout): Dropout(p=0.1, inplace=False)\n",
              "        )\n",
              "        (ln_2): LayerNorm((768,), eps=1e-05, elementwise_affine=True)\n",
              "        (mlp): MLP(\n",
              "          (c_fc): Conv1D()\n",
              "          (c_proj): Conv1D()\n",
              "          (dropout): Dropout(p=0.1, inplace=False)\n",
              "        )\n",
              "      )\n",
              "      (3): Block(\n",
              "        (ln_1): LayerNorm((768,), eps=1e-05, elementwise_affine=True)\n",
              "        (attn): Attention(\n",
              "          (c_attn): Conv1D()\n",
              "          (c_proj): Conv1D()\n",
              "          (attn_dropout): Dropout(p=0.1, inplace=False)\n",
              "          (resid_dropout): Dropout(p=0.1, inplace=False)\n",
              "        )\n",
              "        (ln_2): LayerNorm((768,), eps=1e-05, elementwise_affine=True)\n",
              "        (mlp): MLP(\n",
              "          (c_fc): Conv1D()\n",
              "          (c_proj): Conv1D()\n",
              "          (dropout): Dropout(p=0.1, inplace=False)\n",
              "        )\n",
              "      )\n",
              "      (4): Block(\n",
              "        (ln_1): LayerNorm((768,), eps=1e-05, elementwise_affine=True)\n",
              "        (attn): Attention(\n",
              "          (c_attn): Conv1D()\n",
              "          (c_proj): Conv1D()\n",
              "          (attn_dropout): Dropout(p=0.1, inplace=False)\n",
              "          (resid_dropout): Dropout(p=0.1, inplace=False)\n",
              "        )\n",
              "        (ln_2): LayerNorm((768,), eps=1e-05, elementwise_affine=True)\n",
              "        (mlp): MLP(\n",
              "          (c_fc): Conv1D()\n",
              "          (c_proj): Conv1D()\n",
              "          (dropout): Dropout(p=0.1, inplace=False)\n",
              "        )\n",
              "      )\n",
              "      (5): Block(\n",
              "        (ln_1): LayerNorm((768,), eps=1e-05, elementwise_affine=True)\n",
              "        (attn): Attention(\n",
              "          (c_attn): Conv1D()\n",
              "          (c_proj): Conv1D()\n",
              "          (attn_dropout): Dropout(p=0.1, inplace=False)\n",
              "          (resid_dropout): Dropout(p=0.1, inplace=False)\n",
              "        )\n",
              "        (ln_2): LayerNorm((768,), eps=1e-05, elementwise_affine=True)\n",
              "        (mlp): MLP(\n",
              "          (c_fc): Conv1D()\n",
              "          (c_proj): Conv1D()\n",
              "          (dropout): Dropout(p=0.1, inplace=False)\n",
              "        )\n",
              "      )\n",
              "      (6): Block(\n",
              "        (ln_1): LayerNorm((768,), eps=1e-05, elementwise_affine=True)\n",
              "        (attn): Attention(\n",
              "          (c_attn): Conv1D()\n",
              "          (c_proj): Conv1D()\n",
              "          (attn_dropout): Dropout(p=0.1, inplace=False)\n",
              "          (resid_dropout): Dropout(p=0.1, inplace=False)\n",
              "        )\n",
              "        (ln_2): LayerNorm((768,), eps=1e-05, elementwise_affine=True)\n",
              "        (mlp): MLP(\n",
              "          (c_fc): Conv1D()\n",
              "          (c_proj): Conv1D()\n",
              "          (dropout): Dropout(p=0.1, inplace=False)\n",
              "        )\n",
              "      )\n",
              "      (7): Block(\n",
              "        (ln_1): LayerNorm((768,), eps=1e-05, elementwise_affine=True)\n",
              "        (attn): Attention(\n",
              "          (c_attn): Conv1D()\n",
              "          (c_proj): Conv1D()\n",
              "          (attn_dropout): Dropout(p=0.1, inplace=False)\n",
              "          (resid_dropout): Dropout(p=0.1, inplace=False)\n",
              "        )\n",
              "        (ln_2): LayerNorm((768,), eps=1e-05, elementwise_affine=True)\n",
              "        (mlp): MLP(\n",
              "          (c_fc): Conv1D()\n",
              "          (c_proj): Conv1D()\n",
              "          (dropout): Dropout(p=0.1, inplace=False)\n",
              "        )\n",
              "      )\n",
              "      (8): Block(\n",
              "        (ln_1): LayerNorm((768,), eps=1e-05, elementwise_affine=True)\n",
              "        (attn): Attention(\n",
              "          (c_attn): Conv1D()\n",
              "          (c_proj): Conv1D()\n",
              "          (attn_dropout): Dropout(p=0.1, inplace=False)\n",
              "          (resid_dropout): Dropout(p=0.1, inplace=False)\n",
              "        )\n",
              "        (ln_2): LayerNorm((768,), eps=1e-05, elementwise_affine=True)\n",
              "        (mlp): MLP(\n",
              "          (c_fc): Conv1D()\n",
              "          (c_proj): Conv1D()\n",
              "          (dropout): Dropout(p=0.1, inplace=False)\n",
              "        )\n",
              "      )\n",
              "      (9): Block(\n",
              "        (ln_1): LayerNorm((768,), eps=1e-05, elementwise_affine=True)\n",
              "        (attn): Attention(\n",
              "          (c_attn): Conv1D()\n",
              "          (c_proj): Conv1D()\n",
              "          (attn_dropout): Dropout(p=0.1, inplace=False)\n",
              "          (resid_dropout): Dropout(p=0.1, inplace=False)\n",
              "        )\n",
              "        (ln_2): LayerNorm((768,), eps=1e-05, elementwise_affine=True)\n",
              "        (mlp): MLP(\n",
              "          (c_fc): Conv1D()\n",
              "          (c_proj): Conv1D()\n",
              "          (dropout): Dropout(p=0.1, inplace=False)\n",
              "        )\n",
              "      )\n",
              "      (10): Block(\n",
              "        (ln_1): LayerNorm((768,), eps=1e-05, elementwise_affine=True)\n",
              "        (attn): Attention(\n",
              "          (c_attn): Conv1D()\n",
              "          (c_proj): Conv1D()\n",
              "          (attn_dropout): Dropout(p=0.1, inplace=False)\n",
              "          (resid_dropout): Dropout(p=0.1, inplace=False)\n",
              "        )\n",
              "        (ln_2): LayerNorm((768,), eps=1e-05, elementwise_affine=True)\n",
              "        (mlp): MLP(\n",
              "          (c_fc): Conv1D()\n",
              "          (c_proj): Conv1D()\n",
              "          (dropout): Dropout(p=0.1, inplace=False)\n",
              "        )\n",
              "      )\n",
              "      (11): Block(\n",
              "        (ln_1): LayerNorm((768,), eps=1e-05, elementwise_affine=True)\n",
              "        (attn): Attention(\n",
              "          (c_attn): Conv1D()\n",
              "          (c_proj): Conv1D()\n",
              "          (attn_dropout): Dropout(p=0.1, inplace=False)\n",
              "          (resid_dropout): Dropout(p=0.1, inplace=False)\n",
              "        )\n",
              "        (ln_2): LayerNorm((768,), eps=1e-05, elementwise_affine=True)\n",
              "        (mlp): MLP(\n",
              "          (c_fc): Conv1D()\n",
              "          (c_proj): Conv1D()\n",
              "          (dropout): Dropout(p=0.1, inplace=False)\n",
              "        )\n",
              "      )\n",
              "    )\n",
              "    (ln_f): LayerNorm((768,), eps=1e-05, elementwise_affine=True)\n",
              "  )\n",
              "  (lm_head): Linear(in_features=768, out_features=50257, bias=False)\n",
              ")"
            ]
          },
          "metadata": {},
          "execution_count": 21
        }
      ],
      "source": [
        "model.cuda()"
      ]
    },
    {
      "cell_type": "code",
      "execution_count": null,
      "metadata": {
        "id": "hQY6A5q7Bd4O"
      },
      "outputs": [],
      "source": [
        "text = \"Утро\"\n",
        "inpt = tok.encode(text, return_tensors=\"pt\")"
      ]
    },
    {
      "cell_type": "code",
      "execution_count": null,
      "metadata": {
        "id": "1gfJFmeOBj_t",
        "colab": {
          "base_uri": "https://localhost:8080/"
        },
        "outputId": "4279ba8c-a290-49f9-8222-8807873372c8"
      },
      "outputs": [
        {
          "output_type": "stream",
          "name": "stderr",
          "text": [
            "Setting `pad_token_id` to `eos_token_id`:50256 for open-end generation.\n"
          ]
        }
      ],
      "source": [
        "out = model.generate(inpt.cuda(), max_length=500, repetition_penalty=5.0, do_sample=True, top_k=5, top_p=0.95, temperature=1)"
      ]
    },
    {
      "cell_type": "code",
      "execution_count": null,
      "metadata": {
        "colab": {
          "base_uri": "https://localhost:8080/",
          "height": 87
        },
        "id": "gWZ9SUCxB2Ki",
        "outputId": "76b27cef-e863-4957-ddf8-6646eb63f117"
      },
      "outputs": [
        {
          "output_type": "execute_result",
          "data": {
            "text/plain": [
              "'Утро было ясное. Он проснулся рано, в пять часов утра и чувствовал себя совершенно разбитым: он видел только одно - свою жену; но она улыбалась ему так нежно-сладко (какою бывает улыбка женщины), что у него не оставалось ни малейшего сомнения или даже тени страха перед нею при виде ее красивого лица с таким выражением любви к ней самой... Она говорила по французски со всеми встречными мужчинами на свете! А потом они пошли обедать ужинать. В доме был беспорядок, все были заняты работой над книгой о войне графа Безухого ; а около дома была еще большая толпа народа гулявших за домом гостей Петербурга : офицеров французской армии под начальством князя Курагина для того чтобы отпраздновать приезд Кутузова домой накануне смотра войск Кутузовской линии во всей его силе духа русского оружия против французов вместе взятых! И вот как раз когда князь Василий вошел опять после обеда из столовой дворца Апраксина двора ко двору великого визиря Александра Павловича Мюрата навстречу князю Василью подошел граф Андрей Болконский собственной персоной без сюртука... Князь остановился подле графини Ростовой от имени главнокомандующего русских императоров Николая Михайловича Толстого прямо напротив дивана Екатерины Викторовны Долгорукиной своей жены Марии Феодоровной Толстой Анны Михайловне Теляниной рядом сидевшей тетушкой Прасковьей Ивановною Шерервой.. Граф смотрел то одним глазом своим сквозь очки высоко задвинутых назад глаза кверху своими длинными тонкими бровями вверх устремляя свой взор куда нибудь вдаль невидящими глазами.. Но вдруг взгляд этот упал почемуто совсем низко между глаз своих женщин.... Пьер поднял голову выше своего отражения этого взгляда до тех пор пока графиня ничего уже больше никогда им бы взглядом видеть себе такого же места своему мужу? Нет нет да будет это!... Это должно быть неизбежно..., сказал вслух сам собой про свое желание всякий человек имеющий право верить всякому слову Бога прежде чем говорить неправду Богу самому через людей чрез Него Самому Бог послал Своего Сына Единородного Святого Духа Своим святым Духом Святыя крестным путем всем нам давая жизнь вечную веру любовь родителей наших дать ей силу принять смерть которую мы должны нести ради нее одну ибо наша вера есть наше призвание Божие потому я говорю вам Я даю власть верующим поступать согласно заповедям Господа нашего Иисуса Христа Спасителя нашедшего мир живущим вероотступникам воздать каждому должное Вера христианская укрепляет нас надеждой получить ответы Божии об упокоении души нашей Отче Наш Который дал просимое человеку спасение спастися душам нашим Верующий должен всегда исполнять зап'"
            ],
            "application/vnd.google.colaboratory.intrinsic+json": {
              "type": "string"
            }
          },
          "metadata": {},
          "execution_count": 24
        }
      ],
      "source": [
        "tok.decode(out[0])"
      ]
    }
  ],
  "metadata": {
    "accelerator": "GPU",
    "colab": {
      "collapsed_sections": [],
      "name": "RuGPT3FinetuneHF.ipynb",
      "provenance": []
    },
    "kernelspec": {
      "display_name": "Python 3",
      "language": "python",
      "name": "python3"
    },
    "language_info": {
      "codemirror_mode": {
        "name": "ipython",
        "version": 3
      },
      "file_extension": ".py",
      "mimetype": "text/x-python",
      "name": "python",
      "nbconvert_exporter": "python",
      "pygments_lexer": "ipython3",
      "version": "3.7.8"
    }
  },
  "nbformat": 4,
  "nbformat_minor": 0
}
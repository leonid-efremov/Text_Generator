{
 "cells": [
  {
   "cell_type": "markdown",
   "metadata": {},
   "source": [
    "Генератор теста, основная программа\n",
    "main файл:\n",
    "    - простая грамматическая модель\n",
    "    - LSTM модель\n",
    "    - ruGPT3 модель"
   ]
  },
  {
   "cell_type": "code",
   "execution_count": 1,
   "metadata": {},
   "outputs": [],
   "source": [
    "from Text_Generator import TextGenerator"
   ]
  },
  {
   "cell_type": "code",
   "execution_count": 2,
   "metadata": {},
   "outputs": [],
   "source": [
    "model = TextGenerator(model_type='GPT')"
   ]
  },
  {
   "cell_type": "code",
   "execution_count": 3,
   "metadata": {},
   "outputs": [],
   "source": [
    "# For LSTM model only\n",
    "\n",
    "# specify in model.prepare args: layers_sizes=layers_sizes\n",
    "layers_sizes =  {'hidden_size': 128,\n",
    "                 'embedding_size': 128}\n",
    "\n",
    "# specify in model.generate args: train_parameters=train_parameters\n",
    "train_parameters = {'batch_size': 64,\n",
    "                    'seq_len': 256,\n",
    "                    'n_epochs': 2500,\n",
    "                    'lr': 1e-3}                 "
   ]
  },
  {
   "cell_type": "code",
   "execution_count": 3,
   "metadata": {},
   "outputs": [],
   "source": [
    "train_texts = 'books.csv'\n",
    "\n",
    "model.prepare(train_texts, only_words=True, pretrained=True)"
   ]
  },
  {
   "cell_type": "code",
   "execution_count": 4,
   "metadata": {},
   "outputs": [],
   "source": [
    "#start_word = str(input('Enter your word:'))  # generate phrase from word\n",
    "#gen.init_word = 'утро доброе'  # start_word"
   ]
  },
  {
   "cell_type": "code",
   "execution_count": 4,
   "metadata": {},
   "outputs": [
    {
     "name": "stdout",
     "output_type": "stream",
     "text": [
      "  Я не могу понять, - сказала она. -- Вы знаете мою жену... вы мне говорили про нее и о ней тоже. (Она замолчала.) Что это значит?... что я вам говорила: вот моя жена!... И как же так! Ведь\n"
     ]
    }
   ],
   "source": [
    "phrase = model.generate()"
   ]
  }
 ],
 "metadata": {
  "interpreter": {
   "hash": "ad2bdc8ecc057115af97d19610ffacc2b4e99fae6737bb82f5d7fb13d2f2c186"
  },
  "kernelspec": {
   "display_name": "Python 3.8.5 ('base')",
   "language": "python",
   "name": "python3"
  },
  "language_info": {
   "codemirror_mode": {
    "name": "ipython",
    "version": 3
   },
   "file_extension": ".py",
   "mimetype": "text/x-python",
   "name": "python",
   "nbconvert_exporter": "python",
   "pygments_lexer": "ipython3",
   "version": "3.8.5"
  },
  "orig_nbformat": 4
 },
 "nbformat": 4,
 "nbformat_minor": 2
}
